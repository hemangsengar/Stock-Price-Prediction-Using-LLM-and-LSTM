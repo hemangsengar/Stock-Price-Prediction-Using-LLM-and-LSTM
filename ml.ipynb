{
 "cells": [
  {
   "cell_type": "code",
   "execution_count": null,
   "id": "daf047f3",
   "metadata": {},
   "outputs": [],
   "source": []
  },
  {
   "cell_type": "markdown",
   "id": "0dc3cc9e",
   "metadata": {},
   "source": [
    "Importing Libraries"
   ]
  },
  {
   "cell_type": "code",
   "execution_count": 38,
   "id": "633b0b6f",
   "metadata": {},
   "outputs": [],
   "source": [
    "import yfinance as yf\n",
    "import pandas as pd\n",
    "import numpy as np\n",
    "from sklearn.preprocessing import MinMaxScaler\n",
    "from sklearn.model_selection import train_test_split\n",
    "from tensorflow.keras.models import Sequential\n",
    "from tensorflow.keras.layers import LSTM, Bidirectional, Dense, Dropout\n",
    "from tensorflow.keras.utils import to_categorical\n"
   ]
  },
  {
   "cell_type": "markdown",
   "id": "77ca8b29",
   "metadata": {},
   "source": [
    "Dowload"
   ]
  },
  {
   "cell_type": "code",
   "execution_count": 39,
   "id": "dfeaf6cc",
   "metadata": {},
   "outputs": [],
   "source": [
    "def fetch_and_prepare_data(ticker):\n",
    "    df = yf.download(ticker, start=\"2022-01-01\", end=\"2024-12-31\")\n",
    "\n",
    "    # Technical Indicators\n",
    "    df[\"SMA_50\"] = df[\"Close\"].rolling(window=50).mean()\n",
    "\n",
    "    ema_12 = df[\"Close\"].ewm(span=12, adjust=False).mean()\n",
    "    ema_26 = df[\"Close\"].ewm(span=26, adjust=False).mean()\n",
    "    df[\"MACD\"] = ema_12 - ema_26\n",
    "    df[\"MACD_Signal\"] = df[\"MACD\"].ewm(span=9, adjust=False).mean()\n",
    "    df[\"MACD_Hist\"] = df[\"MACD\"] - df[\"MACD_Signal\"]\n",
    "\n",
    "    delta = df[\"Close\"].diff()\n",
    "    gain = delta.clip(lower=0)\n",
    "    loss = -delta.clip(upper=0)\n",
    "    avg_gain = gain.rolling(14).mean()\n",
    "    avg_loss = loss.rolling(14).mean()\n",
    "    rs = avg_gain / avg_loss\n",
    "    df[\"RSI_14\"] = 100 - (100 / (1 + rs))\n",
    "\n",
    "    df[\"Return_21D\"] = df[\"Close\"].pct_change(21)\n",
    "    df[\"Support_20D\"] = df[\"Close\"].rolling(20).min()\n",
    "    df[\"Resistance_20D\"] = df[\"Close\"].rolling(20).max()\n",
    "\n",
    "    def classify_trend(row):\n",
    "        try:\n",
    "            if (float(row['RSI_14']) > 60) and (float(row['Close']) > float(row['SMA_50'])) and (float(row['MACD']) > float(row['MACD_Signal'])):\n",
    "                return \"Bullish\"\n",
    "            elif (float(row['RSI_14']) < 40) and (float(row['Close']) < float(row['SMA_50'])) and (float(row['MACD']) < float(row['MACD_Signal'])):\n",
    "                return \"Bearish\"\n",
    "            else:\n",
    "                return \"Sideways\"\n",
    "        except:\n",
    "            return \"Sideways\"\n",
    "\n",
    "\n",
    "    df.dropna(inplace=True)\n",
    "    df[\"Trend_Label\"] = df.apply(classify_trend, axis=1)\n",
    "    return df\n"
   ]
  },
  {
   "cell_type": "code",
   "execution_count": 40,
   "id": "da39a010",
   "metadata": {},
   "outputs": [],
   "source": [
    "def prepare_lstm_data(df):\n",
    "    features = [\n",
    "        'RSI_14', 'SMA_50', 'MACD', 'MACD_Signal', 'MACD_Hist',\n",
    "        'Return_21D', 'Support_20D', 'Resistance_20D', 'Volume'\n",
    "    ]\n",
    "    label_map = {'Bullish': 0, 'Bearish': 1, 'Sideways': 2}\n",
    "    df['Label'] = df['Trend_Label'].map(label_map)\n",
    "\n",
    "    scaler = MinMaxScaler()\n",
    "    scaled_features = scaler.fit_transform(df[features])\n",
    "\n",
    "    X_seq, y_seq = [], []\n",
    "    sequence_length = 60\n",
    "\n",
    "    for i in range(sequence_length, len(scaled_features)):\n",
    "        X_seq.append(scaled_features[i-sequence_length:i])\n",
    "        y_seq.append(df['Label'].iloc[i])\n",
    "\n",
    "    X_seq = np.array(X_seq)\n",
    "    y_seq_cat = to_categorical(np.array(y_seq), num_classes=3)\n",
    "\n",
    "    return train_test_split(X_seq, y_seq_cat, test_size=0.2, random_state=42)\n"
   ]
  },
  {
   "cell_type": "code",
   "execution_count": null,
   "id": "119111e4",
   "metadata": {},
   "outputs": [],
   "source": [
    "def train_lstm_model(X_train, X_test, y_train, y_test):\n",
    "    model = Sequential()\n",
    "    model.add(Bidirectional(LSTM(64, return_sequences=True), input_shape=(X_train.shape[1], X_train.shape[2])))\n",
    "    model.add(Dropout(0.2))\n",
    "    model.add(LSTM(32))\n",
    "    model.add(Dropout(0.2))\n",
    "    model.add(Dense(16, activation='relu'))\n",
    "    model.add(Dense(3, activation='softmax'))\n",
    "\n",
    "    model.compile(optimizer='adam', loss='categorical_crossentropy', metrics=['accuracy'])\n",
    "\n",
    "    # Suppressed output for clean logging\n",
    "    model.fit(X_train, y_train, epochs=25, batch_size=32, validation_data=(X_test, y_test), verbose=0)\n",
    "\n",
    "    loss, accuracy = model.evaluate(X_test, y_test, verbose=0)\n",
    "    return model, loss, accuracy\n"
   ]
  },
  {
   "cell_type": "code",
   "execution_count": 42,
   "id": "ee2f54a8",
   "metadata": {},
   "outputs": [
    {
     "data": {
      "text/plain": [
       "'\\nticker = \"INFY.NS\"\\nprint(f\"Fetching and preparing data for {ticker}...\")\\ndf = fetch_and_prepare_data(ticker)\\n\\nX_train, X_test, y_train, y_test = prepare_lstm_data(df)\\n\\nprint(\"Training LSTM model...\")\\nmodel, loss, accuracy = train_lstm_model(X_train, X_test, y_train, y_test)\\n\\nprint(f\"\\n✅ Model trained successfully.\\n📉 Loss: {loss:.4f}\\n🎯 Accuracy: {accuracy:.4f}\")\\n\\n'"
      ]
     },
     "execution_count": 42,
     "metadata": {},
     "output_type": "execute_result"
    }
   ],
   "source": [
    "\"\"\"\n",
    "ticker = \"INFY.NS\"\n",
    "print(f\"Fetching and preparing data for {ticker}...\")\n",
    "df = fetch_and_prepare_data(ticker)\n",
    "\n",
    "X_train, X_test, y_train, y_test = prepare_lstm_data(df)\n",
    "\n",
    "print(\"Training LSTM model...\")\n",
    "model, loss, accuracy = train_lstm_model(X_train, X_test, y_train, y_test)\n",
    "\n",
    "print(f\"\\n✅ Model trained successfully.\\n📉 Loss: {loss:.4f}\\n🎯 Accuracy: {accuracy:.4f}\")\n",
    "\n",
    "\"\"\""
   ]
  },
  {
   "cell_type": "code",
   "execution_count": 43,
   "id": "b228631f",
   "metadata": {},
   "outputs": [
    {
     "data": {
      "text/plain": [
       "'\\n# Save model after training\\nmodel.save(\"lstm_stock_trend_model.h5\")\\nprint(\"✅ Model saved as \\'lstm_stock_trend_model.h5\\'\")\\n'"
      ]
     },
     "execution_count": 43,
     "metadata": {},
     "output_type": "execute_result"
    }
   ],
   "source": [
    "\n",
    "\"\"\"\n",
    "# Save model after training\n",
    "model.save(\"lstm_stock_trend_model.h5\")\n",
    "print(\"✅ Model saved as 'lstm_stock_trend_model.h5'\")\n",
    "\"\"\""
   ]
  },
  {
   "cell_type": "code",
   "execution_count": 44,
   "id": "eb61ac2d",
   "metadata": {},
   "outputs": [],
   "source": [
    "def predict_latest_trend(model, df, features, scaler, sequence_length=60):\n",
    "    # Prepare the most recent sequence\n",
    "    latest_data = df[features].tail(sequence_length)\n",
    "    scaled = scaler.transform(latest_data)\n",
    "    sequence = np.expand_dims(scaled, axis=0)  # shape: (1, 60, features)\n",
    "\n",
    "    prediction = model.predict(sequence)\n",
    "    class_index = np.argmax(prediction)\n",
    "    confidence = prediction[0][class_index]\n",
    "    label_map = {0: \"Bullish\", 1: \"Bearish\", 2: \"Sideways\"}\n",
    "\n",
    "    return label_map[class_index], confidence\n"
   ]
  },
  {
   "cell_type": "code",
   "execution_count": 45,
   "id": "ba0d4e60",
   "metadata": {},
   "outputs": [
    {
     "ename": "SyntaxError",
     "evalue": "invalid syntax. Perhaps you forgot a comma? (2301097310.py, line 1)",
     "output_type": "error",
     "traceback": [
      "\u001b[1;36m  Cell \u001b[1;32mIn[45], line 1\u001b[1;36m\u001b[0m\n\u001b[1;33m    NIFTY 50\u001b[0m\n\u001b[1;37m    ^\u001b[0m\n\u001b[1;31mSyntaxError\u001b[0m\u001b[1;31m:\u001b[0m invalid syntax. Perhaps you forgot a comma?\n"
     ]
    }
   ],
   "source": [
    "NIFTY 50"
   ]
  },
  {
   "cell_type": "code",
   "execution_count": 46,
   "id": "6fa4b180",
   "metadata": {},
   "outputs": [],
   "source": [
    "import os\n",
    "\n",
    "# Create folder for models\n",
    "os.makedirs(\"Models\", exist_ok=True)\n",
    "\n",
    "# List of NIFTY 50 tickers\n",
    "nifty_50_tickers = [\n",
    "    \"RELIANCE.NS\", \"TCS.NS\", \"INFY.NS\", \"HDFCBANK.NS\", \"ICICIBANK.NS\", \"HINDUNILVR.NS\",\n",
    "    \"SBIN.NS\", \"BHARTIARTL.NS\", \"ITC.NS\", \"LT.NS\", \"ASIANPAINT.NS\", \"AXISBANK.NS\",\n",
    "    \"BAJFINANCE.NS\", \"KOTAKBANK.NS\", \"MARUTI.NS\", \"HCLTECH.NS\", \"SUNPHARMA.NS\",\n",
    "    \"WIPRO.NS\", \"NESTLEIND.NS\", \"ULTRACEMCO.NS\", \"TITAN.NS\", \"TECHM.NS\", \"TATAMOTORS.NS\",\n",
    "    \"NTPC.NS\", \"JSWSTEEL.NS\", \"POWERGRID.NS\", \"BAJAJFINSV.NS\", \"GRASIM.NS\",\n",
    "    \"ADANIENT.NS\", \"COALINDIA.NS\", \"TATASTEEL.NS\", \"DIVISLAB.NS\", \"HDFCLIFE.NS\",\n",
    "    \"BAJAJ-AUTO.NS\", \"SBILIFE.NS\", \"DRREDDY.NS\", \"CIPLA.NS\", \"BPCL.NS\", \"INDUSINDBK.NS\",\n",
    "    \"BRITANNIA.NS\", \"EICHERMOT.NS\", \"UPL.NS\", \"SHREECEM.NS\", \"HEROMOTOCO.NS\",\n",
    "    \"M&M.NS\", \"HINDALCO.NS\", \"ONGC.NS\", \"APOLLOHOSP.NS\", \"TATACONSUM.NS\"\n",
    "]\n"
   ]
  },
  {
   "cell_type": "code",
   "execution_count": 47,
   "id": "a783909e",
   "metadata": {},
   "outputs": [
    {
     "name": "stderr",
     "output_type": "stream",
     "text": [
      "[*********************100%***********************]  1 of 1 completed"
     ]
    },
    {
     "name": "stdout",
     "output_type": "stream",
     "text": [
      "\n",
      "📊 Processing RELIANCE.NS...\n"
     ]
    },
    {
     "name": "stderr",
     "output_type": "stream",
     "text": [
      "\n",
      "C:\\Users\\heman\\AppData\\Local\\Temp\\ipykernel_34088\\2187632135.py:27: FutureWarning: Calling float on a single element Series is deprecated and will raise a TypeError in the future. Use float(ser.iloc[0]) instead\n",
      "  if (float(row['RSI_14']) > 60) and (float(row['Close']) > float(row['SMA_50'])) and (float(row['MACD']) > float(row['MACD_Signal'])):\n",
      "C:\\Users\\heman\\AppData\\Local\\Temp\\ipykernel_34088\\2187632135.py:29: FutureWarning: Calling float on a single element Series is deprecated and will raise a TypeError in the future. Use float(ser.iloc[0]) instead\n",
      "  elif (float(row['RSI_14']) < 40) and (float(row['Close']) < float(row['SMA_50'])) and (float(row['MACD']) < float(row['MACD_Signal'])):\n",
      "c:\\Users\\heman\\AppData\\Local\\Programs\\Python\\Python310\\lib\\site-packages\\keras\\src\\layers\\rnn\\bidirectional.py:107: UserWarning: Do not pass an `input_shape`/`input_dim` argument to a layer. When using Sequential models, prefer using an `Input(shape)` object as the first layer in the model instead.\n",
      "  super().__init__(**kwargs)\n",
      "WARNING:absl:You are saving your model as an HDF5 file via `model.save()` or `keras.saving.save_model(model)`. This file format is considered legacy. We recommend using instead the native Keras format, e.g. `model.save('my_model.keras')` or `keras.saving.save_model(model, 'my_model.keras')`. \n",
      "[*********************100%***********************]  1 of 1 completed\n",
      "C:\\Users\\heman\\AppData\\Local\\Temp\\ipykernel_34088\\2187632135.py:27: FutureWarning: Calling float on a single element Series is deprecated and will raise a TypeError in the future. Use float(ser.iloc[0]) instead\n",
      "  if (float(row['RSI_14']) > 60) and (float(row['Close']) > float(row['SMA_50'])) and (float(row['MACD']) > float(row['MACD_Signal'])):\n",
      "C:\\Users\\heman\\AppData\\Local\\Temp\\ipykernel_34088\\2187632135.py:29: FutureWarning: Calling float on a single element Series is deprecated and will raise a TypeError in the future. Use float(ser.iloc[0]) instead\n",
      "  elif (float(row['RSI_14']) < 40) and (float(row['Close']) < float(row['SMA_50'])) and (float(row['MACD']) < float(row['MACD_Signal'])):\n"
     ]
    },
    {
     "name": "stdout",
     "output_type": "stream",
     "text": [
      "\n",
      "📊 Processing TCS.NS...\n"
     ]
    },
    {
     "name": "stderr",
     "output_type": "stream",
     "text": [
      "c:\\Users\\heman\\AppData\\Local\\Programs\\Python\\Python310\\lib\\site-packages\\keras\\src\\layers\\rnn\\bidirectional.py:107: UserWarning: Do not pass an `input_shape`/`input_dim` argument to a layer. When using Sequential models, prefer using an `Input(shape)` object as the first layer in the model instead.\n",
      "  super().__init__(**kwargs)\n",
      "WARNING:absl:You are saving your model as an HDF5 file via `model.save()` or `keras.saving.save_model(model)`. This file format is considered legacy. We recommend using instead the native Keras format, e.g. `model.save('my_model.keras')` or `keras.saving.save_model(model, 'my_model.keras')`. \n",
      "[*********************100%***********************]  1 of 1 completed\n",
      "C:\\Users\\heman\\AppData\\Local\\Temp\\ipykernel_34088\\2187632135.py:27: FutureWarning: Calling float on a single element Series is deprecated and will raise a TypeError in the future. Use float(ser.iloc[0]) instead\n",
      "  if (float(row['RSI_14']) > 60) and (float(row['Close']) > float(row['SMA_50'])) and (float(row['MACD']) > float(row['MACD_Signal'])):\n"
     ]
    },
    {
     "name": "stdout",
     "output_type": "stream",
     "text": [
      "\n",
      "📊 Processing INFY.NS...\n"
     ]
    },
    {
     "name": "stderr",
     "output_type": "stream",
     "text": [
      "C:\\Users\\heman\\AppData\\Local\\Temp\\ipykernel_34088\\2187632135.py:29: FutureWarning: Calling float on a single element Series is deprecated and will raise a TypeError in the future. Use float(ser.iloc[0]) instead\n",
      "  elif (float(row['RSI_14']) < 40) and (float(row['Close']) < float(row['SMA_50'])) and (float(row['MACD']) < float(row['MACD_Signal'])):\n",
      "c:\\Users\\heman\\AppData\\Local\\Programs\\Python\\Python310\\lib\\site-packages\\keras\\src\\layers\\rnn\\bidirectional.py:107: UserWarning: Do not pass an `input_shape`/`input_dim` argument to a layer. When using Sequential models, prefer using an `Input(shape)` object as the first layer in the model instead.\n",
      "  super().__init__(**kwargs)\n",
      "WARNING:absl:You are saving your model as an HDF5 file via `model.save()` or `keras.saving.save_model(model)`. This file format is considered legacy. We recommend using instead the native Keras format, e.g. `model.save('my_model.keras')` or `keras.saving.save_model(model, 'my_model.keras')`. \n",
      "[*********************100%***********************]  1 of 1 completed\n",
      "C:\\Users\\heman\\AppData\\Local\\Temp\\ipykernel_34088\\2187632135.py:27: FutureWarning: Calling float on a single element Series is deprecated and will raise a TypeError in the future. Use float(ser.iloc[0]) instead\n",
      "  if (float(row['RSI_14']) > 60) and (float(row['Close']) > float(row['SMA_50'])) and (float(row['MACD']) > float(row['MACD_Signal'])):\n",
      "C:\\Users\\heman\\AppData\\Local\\Temp\\ipykernel_34088\\2187632135.py:29: FutureWarning: Calling float on a single element Series is deprecated and will raise a TypeError in the future. Use float(ser.iloc[0]) instead\n",
      "  elif (float(row['RSI_14']) < 40) and (float(row['Close']) < float(row['SMA_50'])) and (float(row['MACD']) < float(row['MACD_Signal'])):\n"
     ]
    },
    {
     "name": "stdout",
     "output_type": "stream",
     "text": [
      "\n",
      "📊 Processing HDFCBANK.NS...\n"
     ]
    },
    {
     "name": "stderr",
     "output_type": "stream",
     "text": [
      "c:\\Users\\heman\\AppData\\Local\\Programs\\Python\\Python310\\lib\\site-packages\\keras\\src\\layers\\rnn\\bidirectional.py:107: UserWarning: Do not pass an `input_shape`/`input_dim` argument to a layer. When using Sequential models, prefer using an `Input(shape)` object as the first layer in the model instead.\n",
      "  super().__init__(**kwargs)\n",
      "WARNING:absl:You are saving your model as an HDF5 file via `model.save()` or `keras.saving.save_model(model)`. This file format is considered legacy. We recommend using instead the native Keras format, e.g. `model.save('my_model.keras')` or `keras.saving.save_model(model, 'my_model.keras')`. \n",
      "[*********************100%***********************]  1 of 1 completed\n",
      "C:\\Users\\heman\\AppData\\Local\\Temp\\ipykernel_34088\\2187632135.py:27: FutureWarning: Calling float on a single element Series is deprecated and will raise a TypeError in the future. Use float(ser.iloc[0]) instead\n",
      "  if (float(row['RSI_14']) > 60) and (float(row['Close']) > float(row['SMA_50'])) and (float(row['MACD']) > float(row['MACD_Signal'])):\n",
      "C:\\Users\\heman\\AppData\\Local\\Temp\\ipykernel_34088\\2187632135.py:29: FutureWarning: Calling float on a single element Series is deprecated and will raise a TypeError in the future. Use float(ser.iloc[0]) instead\n",
      "  elif (float(row['RSI_14']) < 40) and (float(row['Close']) < float(row['SMA_50'])) and (float(row['MACD']) < float(row['MACD_Signal'])):\n"
     ]
    },
    {
     "name": "stdout",
     "output_type": "stream",
     "text": [
      "\n",
      "📊 Processing ICICIBANK.NS...\n"
     ]
    },
    {
     "name": "stderr",
     "output_type": "stream",
     "text": [
      "c:\\Users\\heman\\AppData\\Local\\Programs\\Python\\Python310\\lib\\site-packages\\keras\\src\\layers\\rnn\\bidirectional.py:107: UserWarning: Do not pass an `input_shape`/`input_dim` argument to a layer. When using Sequential models, prefer using an `Input(shape)` object as the first layer in the model instead.\n",
      "  super().__init__(**kwargs)\n",
      "WARNING:absl:You are saving your model as an HDF5 file via `model.save()` or `keras.saving.save_model(model)`. This file format is considered legacy. We recommend using instead the native Keras format, e.g. `model.save('my_model.keras')` or `keras.saving.save_model(model, 'my_model.keras')`. \n",
      "[*********************100%***********************]  1 of 1 completed\n"
     ]
    },
    {
     "name": "stdout",
     "output_type": "stream",
     "text": [
      "\n",
      "📊 Processing HINDUNILVR.NS...\n"
     ]
    },
    {
     "name": "stderr",
     "output_type": "stream",
     "text": [
      "C:\\Users\\heman\\AppData\\Local\\Temp\\ipykernel_34088\\2187632135.py:27: FutureWarning: Calling float on a single element Series is deprecated and will raise a TypeError in the future. Use float(ser.iloc[0]) instead\n",
      "  if (float(row['RSI_14']) > 60) and (float(row['Close']) > float(row['SMA_50'])) and (float(row['MACD']) > float(row['MACD_Signal'])):\n",
      "C:\\Users\\heman\\AppData\\Local\\Temp\\ipykernel_34088\\2187632135.py:29: FutureWarning: Calling float on a single element Series is deprecated and will raise a TypeError in the future. Use float(ser.iloc[0]) instead\n",
      "  elif (float(row['RSI_14']) < 40) and (float(row['Close']) < float(row['SMA_50'])) and (float(row['MACD']) < float(row['MACD_Signal'])):\n",
      "c:\\Users\\heman\\AppData\\Local\\Programs\\Python\\Python310\\lib\\site-packages\\keras\\src\\layers\\rnn\\bidirectional.py:107: UserWarning: Do not pass an `input_shape`/`input_dim` argument to a layer. When using Sequential models, prefer using an `Input(shape)` object as the first layer in the model instead.\n",
      "  super().__init__(**kwargs)\n",
      "WARNING:absl:You are saving your model as an HDF5 file via `model.save()` or `keras.saving.save_model(model)`. This file format is considered legacy. We recommend using instead the native Keras format, e.g. `model.save('my_model.keras')` or `keras.saving.save_model(model, 'my_model.keras')`. \n",
      "[*********************100%***********************]  1 of 1 completed"
     ]
    },
    {
     "name": "stdout",
     "output_type": "stream",
     "text": [
      "\n",
      "📊 Processing SBIN.NS...\n"
     ]
    },
    {
     "name": "stderr",
     "output_type": "stream",
     "text": [
      "\n",
      "C:\\Users\\heman\\AppData\\Local\\Temp\\ipykernel_34088\\2187632135.py:27: FutureWarning: Calling float on a single element Series is deprecated and will raise a TypeError in the future. Use float(ser.iloc[0]) instead\n",
      "  if (float(row['RSI_14']) > 60) and (float(row['Close']) > float(row['SMA_50'])) and (float(row['MACD']) > float(row['MACD_Signal'])):\n",
      "C:\\Users\\heman\\AppData\\Local\\Temp\\ipykernel_34088\\2187632135.py:29: FutureWarning: Calling float on a single element Series is deprecated and will raise a TypeError in the future. Use float(ser.iloc[0]) instead\n",
      "  elif (float(row['RSI_14']) < 40) and (float(row['Close']) < float(row['SMA_50'])) and (float(row['MACD']) < float(row['MACD_Signal'])):\n",
      "c:\\Users\\heman\\AppData\\Local\\Programs\\Python\\Python310\\lib\\site-packages\\keras\\src\\layers\\rnn\\bidirectional.py:107: UserWarning: Do not pass an `input_shape`/`input_dim` argument to a layer. When using Sequential models, prefer using an `Input(shape)` object as the first layer in the model instead.\n",
      "  super().__init__(**kwargs)\n",
      "WARNING:absl:You are saving your model as an HDF5 file via `model.save()` or `keras.saving.save_model(model)`. This file format is considered legacy. We recommend using instead the native Keras format, e.g. `model.save('my_model.keras')` or `keras.saving.save_model(model, 'my_model.keras')`. \n",
      "[*********************100%***********************]  1 of 1 completed\n",
      "C:\\Users\\heman\\AppData\\Local\\Temp\\ipykernel_34088\\2187632135.py:27: FutureWarning: Calling float on a single element Series is deprecated and will raise a TypeError in the future. Use float(ser.iloc[0]) instead\n",
      "  if (float(row['RSI_14']) > 60) and (float(row['Close']) > float(row['SMA_50'])) and (float(row['MACD']) > float(row['MACD_Signal'])):\n",
      "C:\\Users\\heman\\AppData\\Local\\Temp\\ipykernel_34088\\2187632135.py:29: FutureWarning: Calling float on a single element Series is deprecated and will raise a TypeError in the future. Use float(ser.iloc[0]) instead\n",
      "  elif (float(row['RSI_14']) < 40) and (float(row['Close']) < float(row['SMA_50'])) and (float(row['MACD']) < float(row['MACD_Signal'])):\n"
     ]
    },
    {
     "name": "stdout",
     "output_type": "stream",
     "text": [
      "\n",
      "📊 Processing BHARTIARTL.NS...\n"
     ]
    },
    {
     "name": "stderr",
     "output_type": "stream",
     "text": [
      "c:\\Users\\heman\\AppData\\Local\\Programs\\Python\\Python310\\lib\\site-packages\\keras\\src\\layers\\rnn\\bidirectional.py:107: UserWarning: Do not pass an `input_shape`/`input_dim` argument to a layer. When using Sequential models, prefer using an `Input(shape)` object as the first layer in the model instead.\n",
      "  super().__init__(**kwargs)\n",
      "WARNING:absl:You are saving your model as an HDF5 file via `model.save()` or `keras.saving.save_model(model)`. This file format is considered legacy. We recommend using instead the native Keras format, e.g. `model.save('my_model.keras')` or `keras.saving.save_model(model, 'my_model.keras')`. \n",
      "[*********************100%***********************]  1 of 1 completed\n",
      "C:\\Users\\heman\\AppData\\Local\\Temp\\ipykernel_34088\\2187632135.py:27: FutureWarning: Calling float on a single element Series is deprecated and will raise a TypeError in the future. Use float(ser.iloc[0]) instead\n",
      "  if (float(row['RSI_14']) > 60) and (float(row['Close']) > float(row['SMA_50'])) and (float(row['MACD']) > float(row['MACD_Signal'])):\n",
      "C:\\Users\\heman\\AppData\\Local\\Temp\\ipykernel_34088\\2187632135.py:29: FutureWarning: Calling float on a single element Series is deprecated and will raise a TypeError in the future. Use float(ser.iloc[0]) instead\n",
      "  elif (float(row['RSI_14']) < 40) and (float(row['Close']) < float(row['SMA_50'])) and (float(row['MACD']) < float(row['MACD_Signal'])):\n"
     ]
    },
    {
     "name": "stdout",
     "output_type": "stream",
     "text": [
      "\n",
      "📊 Processing ITC.NS...\n"
     ]
    },
    {
     "name": "stderr",
     "output_type": "stream",
     "text": [
      "c:\\Users\\heman\\AppData\\Local\\Programs\\Python\\Python310\\lib\\site-packages\\keras\\src\\layers\\rnn\\bidirectional.py:107: UserWarning: Do not pass an `input_shape`/`input_dim` argument to a layer. When using Sequential models, prefer using an `Input(shape)` object as the first layer in the model instead.\n",
      "  super().__init__(**kwargs)\n",
      "WARNING:absl:You are saving your model as an HDF5 file via `model.save()` or `keras.saving.save_model(model)`. This file format is considered legacy. We recommend using instead the native Keras format, e.g. `model.save('my_model.keras')` or `keras.saving.save_model(model, 'my_model.keras')`. \n"
     ]
    },
    {
     "name": "stdout",
     "output_type": "stream",
     "text": [
      "\n",
      "📊 Processing LT.NS...\n"
     ]
    },
    {
     "name": "stderr",
     "output_type": "stream",
     "text": [
      "[*********************100%***********************]  1 of 1 completed\n",
      "C:\\Users\\heman\\AppData\\Local\\Temp\\ipykernel_34088\\2187632135.py:27: FutureWarning: Calling float on a single element Series is deprecated and will raise a TypeError in the future. Use float(ser.iloc[0]) instead\n",
      "  if (float(row['RSI_14']) > 60) and (float(row['Close']) > float(row['SMA_50'])) and (float(row['MACD']) > float(row['MACD_Signal'])):\n",
      "C:\\Users\\heman\\AppData\\Local\\Temp\\ipykernel_34088\\2187632135.py:29: FutureWarning: Calling float on a single element Series is deprecated and will raise a TypeError in the future. Use float(ser.iloc[0]) instead\n",
      "  elif (float(row['RSI_14']) < 40) and (float(row['Close']) < float(row['SMA_50'])) and (float(row['MACD']) < float(row['MACD_Signal'])):\n",
      "c:\\Users\\heman\\AppData\\Local\\Programs\\Python\\Python310\\lib\\site-packages\\keras\\src\\layers\\rnn\\bidirectional.py:107: UserWarning: Do not pass an `input_shape`/`input_dim` argument to a layer. When using Sequential models, prefer using an `Input(shape)` object as the first layer in the model instead.\n",
      "  super().__init__(**kwargs)\n",
      "WARNING:absl:You are saving your model as an HDF5 file via `model.save()` or `keras.saving.save_model(model)`. This file format is considered legacy. We recommend using instead the native Keras format, e.g. `model.save('my_model.keras')` or `keras.saving.save_model(model, 'my_model.keras')`. \n"
     ]
    },
    {
     "name": "stdout",
     "output_type": "stream",
     "text": [
      "\n",
      "📊 Processing ASIANPAINT.NS...\n"
     ]
    },
    {
     "name": "stderr",
     "output_type": "stream",
     "text": [
      "[*********************100%***********************]  1 of 1 completed\n",
      "C:\\Users\\heman\\AppData\\Local\\Temp\\ipykernel_34088\\2187632135.py:27: FutureWarning: Calling float on a single element Series is deprecated and will raise a TypeError in the future. Use float(ser.iloc[0]) instead\n",
      "  if (float(row['RSI_14']) > 60) and (float(row['Close']) > float(row['SMA_50'])) and (float(row['MACD']) > float(row['MACD_Signal'])):\n",
      "C:\\Users\\heman\\AppData\\Local\\Temp\\ipykernel_34088\\2187632135.py:29: FutureWarning: Calling float on a single element Series is deprecated and will raise a TypeError in the future. Use float(ser.iloc[0]) instead\n",
      "  elif (float(row['RSI_14']) < 40) and (float(row['Close']) < float(row['SMA_50'])) and (float(row['MACD']) < float(row['MACD_Signal'])):\n",
      "c:\\Users\\heman\\AppData\\Local\\Programs\\Python\\Python310\\lib\\site-packages\\keras\\src\\layers\\rnn\\bidirectional.py:107: UserWarning: Do not pass an `input_shape`/`input_dim` argument to a layer. When using Sequential models, prefer using an `Input(shape)` object as the first layer in the model instead.\n",
      "  super().__init__(**kwargs)\n",
      "WARNING:absl:You are saving your model as an HDF5 file via `model.save()` or `keras.saving.save_model(model)`. This file format is considered legacy. We recommend using instead the native Keras format, e.g. `model.save('my_model.keras')` or `keras.saving.save_model(model, 'my_model.keras')`. \n"
     ]
    },
    {
     "name": "stdout",
     "output_type": "stream",
     "text": [
      "\n",
      "📊 Processing AXISBANK.NS...\n"
     ]
    },
    {
     "name": "stderr",
     "output_type": "stream",
     "text": [
      "[*********************100%***********************]  1 of 1 completed\n",
      "C:\\Users\\heman\\AppData\\Local\\Temp\\ipykernel_34088\\2187632135.py:27: FutureWarning: Calling float on a single element Series is deprecated and will raise a TypeError in the future. Use float(ser.iloc[0]) instead\n",
      "  if (float(row['RSI_14']) > 60) and (float(row['Close']) > float(row['SMA_50'])) and (float(row['MACD']) > float(row['MACD_Signal'])):\n",
      "C:\\Users\\heman\\AppData\\Local\\Temp\\ipykernel_34088\\2187632135.py:29: FutureWarning: Calling float on a single element Series is deprecated and will raise a TypeError in the future. Use float(ser.iloc[0]) instead\n",
      "  elif (float(row['RSI_14']) < 40) and (float(row['Close']) < float(row['SMA_50'])) and (float(row['MACD']) < float(row['MACD_Signal'])):\n",
      "c:\\Users\\heman\\AppData\\Local\\Programs\\Python\\Python310\\lib\\site-packages\\keras\\src\\layers\\rnn\\bidirectional.py:107: UserWarning: Do not pass an `input_shape`/`input_dim` argument to a layer. When using Sequential models, prefer using an `Input(shape)` object as the first layer in the model instead.\n",
      "  super().__init__(**kwargs)\n",
      "WARNING:absl:You are saving your model as an HDF5 file via `model.save()` or `keras.saving.save_model(model)`. This file format is considered legacy. We recommend using instead the native Keras format, e.g. `model.save('my_model.keras')` or `keras.saving.save_model(model, 'my_model.keras')`. \n"
     ]
    },
    {
     "name": "stdout",
     "output_type": "stream",
     "text": [
      "\n",
      "📊 Processing BAJFINANCE.NS...\n"
     ]
    },
    {
     "name": "stderr",
     "output_type": "stream",
     "text": [
      "[*********************100%***********************]  1 of 1 completed\n",
      "C:\\Users\\heman\\AppData\\Local\\Temp\\ipykernel_34088\\2187632135.py:27: FutureWarning: Calling float on a single element Series is deprecated and will raise a TypeError in the future. Use float(ser.iloc[0]) instead\n",
      "  if (float(row['RSI_14']) > 60) and (float(row['Close']) > float(row['SMA_50'])) and (float(row['MACD']) > float(row['MACD_Signal'])):\n",
      "C:\\Users\\heman\\AppData\\Local\\Temp\\ipykernel_34088\\2187632135.py:29: FutureWarning: Calling float on a single element Series is deprecated and will raise a TypeError in the future. Use float(ser.iloc[0]) instead\n",
      "  elif (float(row['RSI_14']) < 40) and (float(row['Close']) < float(row['SMA_50'])) and (float(row['MACD']) < float(row['MACD_Signal'])):\n",
      "c:\\Users\\heman\\AppData\\Local\\Programs\\Python\\Python310\\lib\\site-packages\\keras\\src\\layers\\rnn\\bidirectional.py:107: UserWarning: Do not pass an `input_shape`/`input_dim` argument to a layer. When using Sequential models, prefer using an `Input(shape)` object as the first layer in the model instead.\n",
      "  super().__init__(**kwargs)\n",
      "WARNING:absl:You are saving your model as an HDF5 file via `model.save()` or `keras.saving.save_model(model)`. This file format is considered legacy. We recommend using instead the native Keras format, e.g. `model.save('my_model.keras')` or `keras.saving.save_model(model, 'my_model.keras')`. \n"
     ]
    },
    {
     "name": "stdout",
     "output_type": "stream",
     "text": [
      "\n",
      "📊 Processing KOTAKBANK.NS...\n"
     ]
    },
    {
     "name": "stderr",
     "output_type": "stream",
     "text": [
      "[*********************100%***********************]  1 of 1 completed\n",
      "C:\\Users\\heman\\AppData\\Local\\Temp\\ipykernel_34088\\2187632135.py:27: FutureWarning: Calling float on a single element Series is deprecated and will raise a TypeError in the future. Use float(ser.iloc[0]) instead\n",
      "  if (float(row['RSI_14']) > 60) and (float(row['Close']) > float(row['SMA_50'])) and (float(row['MACD']) > float(row['MACD_Signal'])):\n",
      "C:\\Users\\heman\\AppData\\Local\\Temp\\ipykernel_34088\\2187632135.py:29: FutureWarning: Calling float on a single element Series is deprecated and will raise a TypeError in the future. Use float(ser.iloc[0]) instead\n",
      "  elif (float(row['RSI_14']) < 40) and (float(row['Close']) < float(row['SMA_50'])) and (float(row['MACD']) < float(row['MACD_Signal'])):\n",
      "c:\\Users\\heman\\AppData\\Local\\Programs\\Python\\Python310\\lib\\site-packages\\keras\\src\\layers\\rnn\\bidirectional.py:107: UserWarning: Do not pass an `input_shape`/`input_dim` argument to a layer. When using Sequential models, prefer using an `Input(shape)` object as the first layer in the model instead.\n",
      "  super().__init__(**kwargs)\n",
      "WARNING:absl:You are saving your model as an HDF5 file via `model.save()` or `keras.saving.save_model(model)`. This file format is considered legacy. We recommend using instead the native Keras format, e.g. `model.save('my_model.keras')` or `keras.saving.save_model(model, 'my_model.keras')`. \n"
     ]
    },
    {
     "name": "stdout",
     "output_type": "stream",
     "text": [
      "\n",
      "📊 Processing MARUTI.NS...\n"
     ]
    },
    {
     "name": "stderr",
     "output_type": "stream",
     "text": [
      "[*********************100%***********************]  1 of 1 completed\n",
      "C:\\Users\\heman\\AppData\\Local\\Temp\\ipykernel_34088\\2187632135.py:27: FutureWarning: Calling float on a single element Series is deprecated and will raise a TypeError in the future. Use float(ser.iloc[0]) instead\n",
      "  if (float(row['RSI_14']) > 60) and (float(row['Close']) > float(row['SMA_50'])) and (float(row['MACD']) > float(row['MACD_Signal'])):\n",
      "C:\\Users\\heman\\AppData\\Local\\Temp\\ipykernel_34088\\2187632135.py:29: FutureWarning: Calling float on a single element Series is deprecated and will raise a TypeError in the future. Use float(ser.iloc[0]) instead\n",
      "  elif (float(row['RSI_14']) < 40) and (float(row['Close']) < float(row['SMA_50'])) and (float(row['MACD']) < float(row['MACD_Signal'])):\n",
      "c:\\Users\\heman\\AppData\\Local\\Programs\\Python\\Python310\\lib\\site-packages\\keras\\src\\layers\\rnn\\bidirectional.py:107: UserWarning: Do not pass an `input_shape`/`input_dim` argument to a layer. When using Sequential models, prefer using an `Input(shape)` object as the first layer in the model instead.\n",
      "  super().__init__(**kwargs)\n",
      "WARNING:absl:You are saving your model as an HDF5 file via `model.save()` or `keras.saving.save_model(model)`. This file format is considered legacy. We recommend using instead the native Keras format, e.g. `model.save('my_model.keras')` or `keras.saving.save_model(model, 'my_model.keras')`. \n"
     ]
    },
    {
     "name": "stdout",
     "output_type": "stream",
     "text": [
      "\n",
      "📊 Processing HCLTECH.NS...\n"
     ]
    },
    {
     "name": "stderr",
     "output_type": "stream",
     "text": [
      "[*********************100%***********************]  1 of 1 completed\n",
      "C:\\Users\\heman\\AppData\\Local\\Temp\\ipykernel_34088\\2187632135.py:27: FutureWarning: Calling float on a single element Series is deprecated and will raise a TypeError in the future. Use float(ser.iloc[0]) instead\n",
      "  if (float(row['RSI_14']) > 60) and (float(row['Close']) > float(row['SMA_50'])) and (float(row['MACD']) > float(row['MACD_Signal'])):\n",
      "C:\\Users\\heman\\AppData\\Local\\Temp\\ipykernel_34088\\2187632135.py:29: FutureWarning: Calling float on a single element Series is deprecated and will raise a TypeError in the future. Use float(ser.iloc[0]) instead\n",
      "  elif (float(row['RSI_14']) < 40) and (float(row['Close']) < float(row['SMA_50'])) and (float(row['MACD']) < float(row['MACD_Signal'])):\n",
      "c:\\Users\\heman\\AppData\\Local\\Programs\\Python\\Python310\\lib\\site-packages\\keras\\src\\layers\\rnn\\bidirectional.py:107: UserWarning: Do not pass an `input_shape`/`input_dim` argument to a layer. When using Sequential models, prefer using an `Input(shape)` object as the first layer in the model instead.\n",
      "  super().__init__(**kwargs)\n",
      "WARNING:absl:You are saving your model as an HDF5 file via `model.save()` or `keras.saving.save_model(model)`. This file format is considered legacy. We recommend using instead the native Keras format, e.g. `model.save('my_model.keras')` or `keras.saving.save_model(model, 'my_model.keras')`. \n"
     ]
    },
    {
     "name": "stdout",
     "output_type": "stream",
     "text": [
      "\n",
      "📊 Processing SUNPHARMA.NS...\n"
     ]
    },
    {
     "name": "stderr",
     "output_type": "stream",
     "text": [
      "[*********************100%***********************]  1 of 1 completed\n",
      "C:\\Users\\heman\\AppData\\Local\\Temp\\ipykernel_34088\\2187632135.py:27: FutureWarning: Calling float on a single element Series is deprecated and will raise a TypeError in the future. Use float(ser.iloc[0]) instead\n",
      "  if (float(row['RSI_14']) > 60) and (float(row['Close']) > float(row['SMA_50'])) and (float(row['MACD']) > float(row['MACD_Signal'])):\n",
      "C:\\Users\\heman\\AppData\\Local\\Temp\\ipykernel_34088\\2187632135.py:29: FutureWarning: Calling float on a single element Series is deprecated and will raise a TypeError in the future. Use float(ser.iloc[0]) instead\n",
      "  elif (float(row['RSI_14']) < 40) and (float(row['Close']) < float(row['SMA_50'])) and (float(row['MACD']) < float(row['MACD_Signal'])):\n",
      "c:\\Users\\heman\\AppData\\Local\\Programs\\Python\\Python310\\lib\\site-packages\\keras\\src\\layers\\rnn\\bidirectional.py:107: UserWarning: Do not pass an `input_shape`/`input_dim` argument to a layer. When using Sequential models, prefer using an `Input(shape)` object as the first layer in the model instead.\n",
      "  super().__init__(**kwargs)\n",
      "WARNING:absl:You are saving your model as an HDF5 file via `model.save()` or `keras.saving.save_model(model)`. This file format is considered legacy. We recommend using instead the native Keras format, e.g. `model.save('my_model.keras')` or `keras.saving.save_model(model, 'my_model.keras')`. \n"
     ]
    },
    {
     "name": "stdout",
     "output_type": "stream",
     "text": [
      "\n",
      "📊 Processing WIPRO.NS...\n"
     ]
    },
    {
     "name": "stderr",
     "output_type": "stream",
     "text": [
      "[*********************100%***********************]  1 of 1 completed\n",
      "C:\\Users\\heman\\AppData\\Local\\Temp\\ipykernel_34088\\2187632135.py:27: FutureWarning: Calling float on a single element Series is deprecated and will raise a TypeError in the future. Use float(ser.iloc[0]) instead\n",
      "  if (float(row['RSI_14']) > 60) and (float(row['Close']) > float(row['SMA_50'])) and (float(row['MACD']) > float(row['MACD_Signal'])):\n",
      "C:\\Users\\heman\\AppData\\Local\\Temp\\ipykernel_34088\\2187632135.py:29: FutureWarning: Calling float on a single element Series is deprecated and will raise a TypeError in the future. Use float(ser.iloc[0]) instead\n",
      "  elif (float(row['RSI_14']) < 40) and (float(row['Close']) < float(row['SMA_50'])) and (float(row['MACD']) < float(row['MACD_Signal'])):\n",
      "c:\\Users\\heman\\AppData\\Local\\Programs\\Python\\Python310\\lib\\site-packages\\keras\\src\\layers\\rnn\\bidirectional.py:107: UserWarning: Do not pass an `input_shape`/`input_dim` argument to a layer. When using Sequential models, prefer using an `Input(shape)` object as the first layer in the model instead.\n",
      "  super().__init__(**kwargs)\n",
      "WARNING:absl:You are saving your model as an HDF5 file via `model.save()` or `keras.saving.save_model(model)`. This file format is considered legacy. We recommend using instead the native Keras format, e.g. `model.save('my_model.keras')` or `keras.saving.save_model(model, 'my_model.keras')`. \n"
     ]
    },
    {
     "name": "stdout",
     "output_type": "stream",
     "text": [
      "\n",
      "📊 Processing NESTLEIND.NS...\n"
     ]
    },
    {
     "name": "stderr",
     "output_type": "stream",
     "text": [
      "[*********************100%***********************]  1 of 1 completed\n",
      "C:\\Users\\heman\\AppData\\Local\\Temp\\ipykernel_34088\\2187632135.py:27: FutureWarning: Calling float on a single element Series is deprecated and will raise a TypeError in the future. Use float(ser.iloc[0]) instead\n",
      "  if (float(row['RSI_14']) > 60) and (float(row['Close']) > float(row['SMA_50'])) and (float(row['MACD']) > float(row['MACD_Signal'])):\n",
      "C:\\Users\\heman\\AppData\\Local\\Temp\\ipykernel_34088\\2187632135.py:29: FutureWarning: Calling float on a single element Series is deprecated and will raise a TypeError in the future. Use float(ser.iloc[0]) instead\n",
      "  elif (float(row['RSI_14']) < 40) and (float(row['Close']) < float(row['SMA_50'])) and (float(row['MACD']) < float(row['MACD_Signal'])):\n",
      "c:\\Users\\heman\\AppData\\Local\\Programs\\Python\\Python310\\lib\\site-packages\\keras\\src\\layers\\rnn\\bidirectional.py:107: UserWarning: Do not pass an `input_shape`/`input_dim` argument to a layer. When using Sequential models, prefer using an `Input(shape)` object as the first layer in the model instead.\n",
      "  super().__init__(**kwargs)\n",
      "WARNING:absl:You are saving your model as an HDF5 file via `model.save()` or `keras.saving.save_model(model)`. This file format is considered legacy. We recommend using instead the native Keras format, e.g. `model.save('my_model.keras')` or `keras.saving.save_model(model, 'my_model.keras')`. \n"
     ]
    },
    {
     "name": "stdout",
     "output_type": "stream",
     "text": [
      "\n",
      "📊 Processing ULTRACEMCO.NS...\n"
     ]
    },
    {
     "name": "stderr",
     "output_type": "stream",
     "text": [
      "[*********************100%***********************]  1 of 1 completed\n",
      "C:\\Users\\heman\\AppData\\Local\\Temp\\ipykernel_34088\\2187632135.py:27: FutureWarning: Calling float on a single element Series is deprecated and will raise a TypeError in the future. Use float(ser.iloc[0]) instead\n",
      "  if (float(row['RSI_14']) > 60) and (float(row['Close']) > float(row['SMA_50'])) and (float(row['MACD']) > float(row['MACD_Signal'])):\n",
      "C:\\Users\\heman\\AppData\\Local\\Temp\\ipykernel_34088\\2187632135.py:29: FutureWarning: Calling float on a single element Series is deprecated and will raise a TypeError in the future. Use float(ser.iloc[0]) instead\n",
      "  elif (float(row['RSI_14']) < 40) and (float(row['Close']) < float(row['SMA_50'])) and (float(row['MACD']) < float(row['MACD_Signal'])):\n",
      "c:\\Users\\heman\\AppData\\Local\\Programs\\Python\\Python310\\lib\\site-packages\\keras\\src\\layers\\rnn\\bidirectional.py:107: UserWarning: Do not pass an `input_shape`/`input_dim` argument to a layer. When using Sequential models, prefer using an `Input(shape)` object as the first layer in the model instead.\n",
      "  super().__init__(**kwargs)\n",
      "WARNING:absl:You are saving your model as an HDF5 file via `model.save()` or `keras.saving.save_model(model)`. This file format is considered legacy. We recommend using instead the native Keras format, e.g. `model.save('my_model.keras')` or `keras.saving.save_model(model, 'my_model.keras')`. \n"
     ]
    },
    {
     "name": "stdout",
     "output_type": "stream",
     "text": [
      "\n",
      "📊 Processing TITAN.NS...\n"
     ]
    },
    {
     "name": "stderr",
     "output_type": "stream",
     "text": [
      "[*********************100%***********************]  1 of 1 completed\n",
      "C:\\Users\\heman\\AppData\\Local\\Temp\\ipykernel_34088\\2187632135.py:27: FutureWarning: Calling float on a single element Series is deprecated and will raise a TypeError in the future. Use float(ser.iloc[0]) instead\n",
      "  if (float(row['RSI_14']) > 60) and (float(row['Close']) > float(row['SMA_50'])) and (float(row['MACD']) > float(row['MACD_Signal'])):\n",
      "C:\\Users\\heman\\AppData\\Local\\Temp\\ipykernel_34088\\2187632135.py:29: FutureWarning: Calling float on a single element Series is deprecated and will raise a TypeError in the future. Use float(ser.iloc[0]) instead\n",
      "  elif (float(row['RSI_14']) < 40) and (float(row['Close']) < float(row['SMA_50'])) and (float(row['MACD']) < float(row['MACD_Signal'])):\n",
      "c:\\Users\\heman\\AppData\\Local\\Programs\\Python\\Python310\\lib\\site-packages\\keras\\src\\layers\\rnn\\bidirectional.py:107: UserWarning: Do not pass an `input_shape`/`input_dim` argument to a layer. When using Sequential models, prefer using an `Input(shape)` object as the first layer in the model instead.\n",
      "  super().__init__(**kwargs)\n",
      "WARNING:absl:You are saving your model as an HDF5 file via `model.save()` or `keras.saving.save_model(model)`. This file format is considered legacy. We recommend using instead the native Keras format, e.g. `model.save('my_model.keras')` or `keras.saving.save_model(model, 'my_model.keras')`. \n"
     ]
    },
    {
     "name": "stdout",
     "output_type": "stream",
     "text": [
      "\n",
      "📊 Processing TECHM.NS...\n"
     ]
    },
    {
     "name": "stderr",
     "output_type": "stream",
     "text": [
      "[*********************100%***********************]  1 of 1 completed\n",
      "C:\\Users\\heman\\AppData\\Local\\Temp\\ipykernel_34088\\2187632135.py:27: FutureWarning: Calling float on a single element Series is deprecated and will raise a TypeError in the future. Use float(ser.iloc[0]) instead\n",
      "  if (float(row['RSI_14']) > 60) and (float(row['Close']) > float(row['SMA_50'])) and (float(row['MACD']) > float(row['MACD_Signal'])):\n",
      "C:\\Users\\heman\\AppData\\Local\\Temp\\ipykernel_34088\\2187632135.py:29: FutureWarning: Calling float on a single element Series is deprecated and will raise a TypeError in the future. Use float(ser.iloc[0]) instead\n",
      "  elif (float(row['RSI_14']) < 40) and (float(row['Close']) < float(row['SMA_50'])) and (float(row['MACD']) < float(row['MACD_Signal'])):\n",
      "c:\\Users\\heman\\AppData\\Local\\Programs\\Python\\Python310\\lib\\site-packages\\keras\\src\\layers\\rnn\\bidirectional.py:107: UserWarning: Do not pass an `input_shape`/`input_dim` argument to a layer. When using Sequential models, prefer using an `Input(shape)` object as the first layer in the model instead.\n",
      "  super().__init__(**kwargs)\n",
      "WARNING:absl:You are saving your model as an HDF5 file via `model.save()` or `keras.saving.save_model(model)`. This file format is considered legacy. We recommend using instead the native Keras format, e.g. `model.save('my_model.keras')` or `keras.saving.save_model(model, 'my_model.keras')`. \n"
     ]
    },
    {
     "name": "stdout",
     "output_type": "stream",
     "text": [
      "\n",
      "📊 Processing TATAMOTORS.NS...\n"
     ]
    },
    {
     "name": "stderr",
     "output_type": "stream",
     "text": [
      "[*********************100%***********************]  1 of 1 completed\n",
      "C:\\Users\\heman\\AppData\\Local\\Temp\\ipykernel_34088\\2187632135.py:27: FutureWarning: Calling float on a single element Series is deprecated and will raise a TypeError in the future. Use float(ser.iloc[0]) instead\n",
      "  if (float(row['RSI_14']) > 60) and (float(row['Close']) > float(row['SMA_50'])) and (float(row['MACD']) > float(row['MACD_Signal'])):\n",
      "C:\\Users\\heman\\AppData\\Local\\Temp\\ipykernel_34088\\2187632135.py:29: FutureWarning: Calling float on a single element Series is deprecated and will raise a TypeError in the future. Use float(ser.iloc[0]) instead\n",
      "  elif (float(row['RSI_14']) < 40) and (float(row['Close']) < float(row['SMA_50'])) and (float(row['MACD']) < float(row['MACD_Signal'])):\n",
      "c:\\Users\\heman\\AppData\\Local\\Programs\\Python\\Python310\\lib\\site-packages\\keras\\src\\layers\\rnn\\bidirectional.py:107: UserWarning: Do not pass an `input_shape`/`input_dim` argument to a layer. When using Sequential models, prefer using an `Input(shape)` object as the first layer in the model instead.\n",
      "  super().__init__(**kwargs)\n",
      "WARNING:absl:You are saving your model as an HDF5 file via `model.save()` or `keras.saving.save_model(model)`. This file format is considered legacy. We recommend using instead the native Keras format, e.g. `model.save('my_model.keras')` or `keras.saving.save_model(model, 'my_model.keras')`. \n"
     ]
    },
    {
     "name": "stdout",
     "output_type": "stream",
     "text": [
      "\n",
      "📊 Processing NTPC.NS...\n"
     ]
    },
    {
     "name": "stderr",
     "output_type": "stream",
     "text": [
      "[*********************100%***********************]  1 of 1 completed\n",
      "C:\\Users\\heman\\AppData\\Local\\Temp\\ipykernel_34088\\2187632135.py:27: FutureWarning: Calling float on a single element Series is deprecated and will raise a TypeError in the future. Use float(ser.iloc[0]) instead\n",
      "  if (float(row['RSI_14']) > 60) and (float(row['Close']) > float(row['SMA_50'])) and (float(row['MACD']) > float(row['MACD_Signal'])):\n",
      "C:\\Users\\heman\\AppData\\Local\\Temp\\ipykernel_34088\\2187632135.py:29: FutureWarning: Calling float on a single element Series is deprecated and will raise a TypeError in the future. Use float(ser.iloc[0]) instead\n",
      "  elif (float(row['RSI_14']) < 40) and (float(row['Close']) < float(row['SMA_50'])) and (float(row['MACD']) < float(row['MACD_Signal'])):\n",
      "c:\\Users\\heman\\AppData\\Local\\Programs\\Python\\Python310\\lib\\site-packages\\keras\\src\\layers\\rnn\\bidirectional.py:107: UserWarning: Do not pass an `input_shape`/`input_dim` argument to a layer. When using Sequential models, prefer using an `Input(shape)` object as the first layer in the model instead.\n",
      "  super().__init__(**kwargs)\n",
      "WARNING:absl:You are saving your model as an HDF5 file via `model.save()` or `keras.saving.save_model(model)`. This file format is considered legacy. We recommend using instead the native Keras format, e.g. `model.save('my_model.keras')` or `keras.saving.save_model(model, 'my_model.keras')`. \n"
     ]
    },
    {
     "name": "stdout",
     "output_type": "stream",
     "text": [
      "\n",
      "📊 Processing JSWSTEEL.NS...\n"
     ]
    },
    {
     "name": "stderr",
     "output_type": "stream",
     "text": [
      "[*********************100%***********************]  1 of 1 completed\n",
      "C:\\Users\\heman\\AppData\\Local\\Temp\\ipykernel_34088\\2187632135.py:27: FutureWarning: Calling float on a single element Series is deprecated and will raise a TypeError in the future. Use float(ser.iloc[0]) instead\n",
      "  if (float(row['RSI_14']) > 60) and (float(row['Close']) > float(row['SMA_50'])) and (float(row['MACD']) > float(row['MACD_Signal'])):\n",
      "C:\\Users\\heman\\AppData\\Local\\Temp\\ipykernel_34088\\2187632135.py:29: FutureWarning: Calling float on a single element Series is deprecated and will raise a TypeError in the future. Use float(ser.iloc[0]) instead\n",
      "  elif (float(row['RSI_14']) < 40) and (float(row['Close']) < float(row['SMA_50'])) and (float(row['MACD']) < float(row['MACD_Signal'])):\n",
      "c:\\Users\\heman\\AppData\\Local\\Programs\\Python\\Python310\\lib\\site-packages\\keras\\src\\layers\\rnn\\bidirectional.py:107: UserWarning: Do not pass an `input_shape`/`input_dim` argument to a layer. When using Sequential models, prefer using an `Input(shape)` object as the first layer in the model instead.\n",
      "  super().__init__(**kwargs)\n",
      "WARNING:absl:You are saving your model as an HDF5 file via `model.save()` or `keras.saving.save_model(model)`. This file format is considered legacy. We recommend using instead the native Keras format, e.g. `model.save('my_model.keras')` or `keras.saving.save_model(model, 'my_model.keras')`. \n"
     ]
    },
    {
     "name": "stdout",
     "output_type": "stream",
     "text": [
      "\n",
      "📊 Processing POWERGRID.NS...\n"
     ]
    },
    {
     "name": "stderr",
     "output_type": "stream",
     "text": [
      "[*********************100%***********************]  1 of 1 completed\n",
      "C:\\Users\\heman\\AppData\\Local\\Temp\\ipykernel_34088\\2187632135.py:27: FutureWarning: Calling float on a single element Series is deprecated and will raise a TypeError in the future. Use float(ser.iloc[0]) instead\n",
      "  if (float(row['RSI_14']) > 60) and (float(row['Close']) > float(row['SMA_50'])) and (float(row['MACD']) > float(row['MACD_Signal'])):\n",
      "C:\\Users\\heman\\AppData\\Local\\Temp\\ipykernel_34088\\2187632135.py:29: FutureWarning: Calling float on a single element Series is deprecated and will raise a TypeError in the future. Use float(ser.iloc[0]) instead\n",
      "  elif (float(row['RSI_14']) < 40) and (float(row['Close']) < float(row['SMA_50'])) and (float(row['MACD']) < float(row['MACD_Signal'])):\n",
      "c:\\Users\\heman\\AppData\\Local\\Programs\\Python\\Python310\\lib\\site-packages\\keras\\src\\layers\\rnn\\bidirectional.py:107: UserWarning: Do not pass an `input_shape`/`input_dim` argument to a layer. When using Sequential models, prefer using an `Input(shape)` object as the first layer in the model instead.\n",
      "  super().__init__(**kwargs)\n",
      "WARNING:absl:You are saving your model as an HDF5 file via `model.save()` or `keras.saving.save_model(model)`. This file format is considered legacy. We recommend using instead the native Keras format, e.g. `model.save('my_model.keras')` or `keras.saving.save_model(model, 'my_model.keras')`. \n"
     ]
    },
    {
     "name": "stdout",
     "output_type": "stream",
     "text": [
      "\n",
      "📊 Processing BAJAJFINSV.NS...\n"
     ]
    },
    {
     "name": "stderr",
     "output_type": "stream",
     "text": [
      "[*********************100%***********************]  1 of 1 completed\n",
      "C:\\Users\\heman\\AppData\\Local\\Temp\\ipykernel_34088\\2187632135.py:27: FutureWarning: Calling float on a single element Series is deprecated and will raise a TypeError in the future. Use float(ser.iloc[0]) instead\n",
      "  if (float(row['RSI_14']) > 60) and (float(row['Close']) > float(row['SMA_50'])) and (float(row['MACD']) > float(row['MACD_Signal'])):\n",
      "C:\\Users\\heman\\AppData\\Local\\Temp\\ipykernel_34088\\2187632135.py:29: FutureWarning: Calling float on a single element Series is deprecated and will raise a TypeError in the future. Use float(ser.iloc[0]) instead\n",
      "  elif (float(row['RSI_14']) < 40) and (float(row['Close']) < float(row['SMA_50'])) and (float(row['MACD']) < float(row['MACD_Signal'])):\n",
      "c:\\Users\\heman\\AppData\\Local\\Programs\\Python\\Python310\\lib\\site-packages\\keras\\src\\layers\\rnn\\bidirectional.py:107: UserWarning: Do not pass an `input_shape`/`input_dim` argument to a layer. When using Sequential models, prefer using an `Input(shape)` object as the first layer in the model instead.\n",
      "  super().__init__(**kwargs)\n",
      "WARNING:absl:You are saving your model as an HDF5 file via `model.save()` or `keras.saving.save_model(model)`. This file format is considered legacy. We recommend using instead the native Keras format, e.g. `model.save('my_model.keras')` or `keras.saving.save_model(model, 'my_model.keras')`. \n"
     ]
    },
    {
     "name": "stdout",
     "output_type": "stream",
     "text": [
      "\n",
      "📊 Processing GRASIM.NS...\n"
     ]
    },
    {
     "name": "stderr",
     "output_type": "stream",
     "text": [
      "[*********************100%***********************]  1 of 1 completed\n",
      "C:\\Users\\heman\\AppData\\Local\\Temp\\ipykernel_34088\\2187632135.py:27: FutureWarning: Calling float on a single element Series is deprecated and will raise a TypeError in the future. Use float(ser.iloc[0]) instead\n",
      "  if (float(row['RSI_14']) > 60) and (float(row['Close']) > float(row['SMA_50'])) and (float(row['MACD']) > float(row['MACD_Signal'])):\n",
      "C:\\Users\\heman\\AppData\\Local\\Temp\\ipykernel_34088\\2187632135.py:29: FutureWarning: Calling float on a single element Series is deprecated and will raise a TypeError in the future. Use float(ser.iloc[0]) instead\n",
      "  elif (float(row['RSI_14']) < 40) and (float(row['Close']) < float(row['SMA_50'])) and (float(row['MACD']) < float(row['MACD_Signal'])):\n",
      "c:\\Users\\heman\\AppData\\Local\\Programs\\Python\\Python310\\lib\\site-packages\\keras\\src\\layers\\rnn\\bidirectional.py:107: UserWarning: Do not pass an `input_shape`/`input_dim` argument to a layer. When using Sequential models, prefer using an `Input(shape)` object as the first layer in the model instead.\n",
      "  super().__init__(**kwargs)\n",
      "WARNING:absl:You are saving your model as an HDF5 file via `model.save()` or `keras.saving.save_model(model)`. This file format is considered legacy. We recommend using instead the native Keras format, e.g. `model.save('my_model.keras')` or `keras.saving.save_model(model, 'my_model.keras')`. \n"
     ]
    },
    {
     "name": "stdout",
     "output_type": "stream",
     "text": [
      "\n",
      "📊 Processing ADANIENT.NS...\n"
     ]
    },
    {
     "name": "stderr",
     "output_type": "stream",
     "text": [
      "[*********************100%***********************]  1 of 1 completed\n",
      "C:\\Users\\heman\\AppData\\Local\\Temp\\ipykernel_34088\\2187632135.py:27: FutureWarning: Calling float on a single element Series is deprecated and will raise a TypeError in the future. Use float(ser.iloc[0]) instead\n",
      "  if (float(row['RSI_14']) > 60) and (float(row['Close']) > float(row['SMA_50'])) and (float(row['MACD']) > float(row['MACD_Signal'])):\n",
      "C:\\Users\\heman\\AppData\\Local\\Temp\\ipykernel_34088\\2187632135.py:29: FutureWarning: Calling float on a single element Series is deprecated and will raise a TypeError in the future. Use float(ser.iloc[0]) instead\n",
      "  elif (float(row['RSI_14']) < 40) and (float(row['Close']) < float(row['SMA_50'])) and (float(row['MACD']) < float(row['MACD_Signal'])):\n",
      "c:\\Users\\heman\\AppData\\Local\\Programs\\Python\\Python310\\lib\\site-packages\\keras\\src\\layers\\rnn\\bidirectional.py:107: UserWarning: Do not pass an `input_shape`/`input_dim` argument to a layer. When using Sequential models, prefer using an `Input(shape)` object as the first layer in the model instead.\n",
      "  super().__init__(**kwargs)\n",
      "WARNING:absl:You are saving your model as an HDF5 file via `model.save()` or `keras.saving.save_model(model)`. This file format is considered legacy. We recommend using instead the native Keras format, e.g. `model.save('my_model.keras')` or `keras.saving.save_model(model, 'my_model.keras')`. \n"
     ]
    },
    {
     "name": "stdout",
     "output_type": "stream",
     "text": [
      "\n",
      "📊 Processing COALINDIA.NS...\n"
     ]
    },
    {
     "name": "stderr",
     "output_type": "stream",
     "text": [
      "[*********************100%***********************]  1 of 1 completed\n",
      "C:\\Users\\heman\\AppData\\Local\\Temp\\ipykernel_34088\\2187632135.py:27: FutureWarning: Calling float on a single element Series is deprecated and will raise a TypeError in the future. Use float(ser.iloc[0]) instead\n",
      "  if (float(row['RSI_14']) > 60) and (float(row['Close']) > float(row['SMA_50'])) and (float(row['MACD']) > float(row['MACD_Signal'])):\n",
      "C:\\Users\\heman\\AppData\\Local\\Temp\\ipykernel_34088\\2187632135.py:29: FutureWarning: Calling float on a single element Series is deprecated and will raise a TypeError in the future. Use float(ser.iloc[0]) instead\n",
      "  elif (float(row['RSI_14']) < 40) and (float(row['Close']) < float(row['SMA_50'])) and (float(row['MACD']) < float(row['MACD_Signal'])):\n",
      "c:\\Users\\heman\\AppData\\Local\\Programs\\Python\\Python310\\lib\\site-packages\\keras\\src\\layers\\rnn\\bidirectional.py:107: UserWarning: Do not pass an `input_shape`/`input_dim` argument to a layer. When using Sequential models, prefer using an `Input(shape)` object as the first layer in the model instead.\n",
      "  super().__init__(**kwargs)\n",
      "WARNING:absl:You are saving your model as an HDF5 file via `model.save()` or `keras.saving.save_model(model)`. This file format is considered legacy. We recommend using instead the native Keras format, e.g. `model.save('my_model.keras')` or `keras.saving.save_model(model, 'my_model.keras')`. \n"
     ]
    },
    {
     "name": "stdout",
     "output_type": "stream",
     "text": [
      "\n",
      "📊 Processing TATASTEEL.NS...\n"
     ]
    },
    {
     "name": "stderr",
     "output_type": "stream",
     "text": [
      "[*********************100%***********************]  1 of 1 completed\n",
      "C:\\Users\\heman\\AppData\\Local\\Temp\\ipykernel_34088\\2187632135.py:27: FutureWarning: Calling float on a single element Series is deprecated and will raise a TypeError in the future. Use float(ser.iloc[0]) instead\n",
      "  if (float(row['RSI_14']) > 60) and (float(row['Close']) > float(row['SMA_50'])) and (float(row['MACD']) > float(row['MACD_Signal'])):\n",
      "C:\\Users\\heman\\AppData\\Local\\Temp\\ipykernel_34088\\2187632135.py:29: FutureWarning: Calling float on a single element Series is deprecated and will raise a TypeError in the future. Use float(ser.iloc[0]) instead\n",
      "  elif (float(row['RSI_14']) < 40) and (float(row['Close']) < float(row['SMA_50'])) and (float(row['MACD']) < float(row['MACD_Signal'])):\n",
      "c:\\Users\\heman\\AppData\\Local\\Programs\\Python\\Python310\\lib\\site-packages\\keras\\src\\layers\\rnn\\bidirectional.py:107: UserWarning: Do not pass an `input_shape`/`input_dim` argument to a layer. When using Sequential models, prefer using an `Input(shape)` object as the first layer in the model instead.\n",
      "  super().__init__(**kwargs)\n",
      "WARNING:absl:You are saving your model as an HDF5 file via `model.save()` or `keras.saving.save_model(model)`. This file format is considered legacy. We recommend using instead the native Keras format, e.g. `model.save('my_model.keras')` or `keras.saving.save_model(model, 'my_model.keras')`. \n"
     ]
    },
    {
     "name": "stdout",
     "output_type": "stream",
     "text": [
      "\n",
      "📊 Processing DIVISLAB.NS...\n"
     ]
    },
    {
     "name": "stderr",
     "output_type": "stream",
     "text": [
      "[*********************100%***********************]  1 of 1 completed\n",
      "C:\\Users\\heman\\AppData\\Local\\Temp\\ipykernel_34088\\2187632135.py:27: FutureWarning: Calling float on a single element Series is deprecated and will raise a TypeError in the future. Use float(ser.iloc[0]) instead\n",
      "  if (float(row['RSI_14']) > 60) and (float(row['Close']) > float(row['SMA_50'])) and (float(row['MACD']) > float(row['MACD_Signal'])):\n",
      "C:\\Users\\heman\\AppData\\Local\\Temp\\ipykernel_34088\\2187632135.py:29: FutureWarning: Calling float on a single element Series is deprecated and will raise a TypeError in the future. Use float(ser.iloc[0]) instead\n",
      "  elif (float(row['RSI_14']) < 40) and (float(row['Close']) < float(row['SMA_50'])) and (float(row['MACD']) < float(row['MACD_Signal'])):\n",
      "c:\\Users\\heman\\AppData\\Local\\Programs\\Python\\Python310\\lib\\site-packages\\keras\\src\\layers\\rnn\\bidirectional.py:107: UserWarning: Do not pass an `input_shape`/`input_dim` argument to a layer. When using Sequential models, prefer using an `Input(shape)` object as the first layer in the model instead.\n",
      "  super().__init__(**kwargs)\n",
      "WARNING:absl:You are saving your model as an HDF5 file via `model.save()` or `keras.saving.save_model(model)`. This file format is considered legacy. We recommend using instead the native Keras format, e.g. `model.save('my_model.keras')` or `keras.saving.save_model(model, 'my_model.keras')`. \n"
     ]
    },
    {
     "name": "stdout",
     "output_type": "stream",
     "text": [
      "\n",
      "📊 Processing HDFCLIFE.NS...\n"
     ]
    },
    {
     "name": "stderr",
     "output_type": "stream",
     "text": [
      "[*********************100%***********************]  1 of 1 completed\n",
      "C:\\Users\\heman\\AppData\\Local\\Temp\\ipykernel_34088\\2187632135.py:27: FutureWarning: Calling float on a single element Series is deprecated and will raise a TypeError in the future. Use float(ser.iloc[0]) instead\n",
      "  if (float(row['RSI_14']) > 60) and (float(row['Close']) > float(row['SMA_50'])) and (float(row['MACD']) > float(row['MACD_Signal'])):\n",
      "C:\\Users\\heman\\AppData\\Local\\Temp\\ipykernel_34088\\2187632135.py:29: FutureWarning: Calling float on a single element Series is deprecated and will raise a TypeError in the future. Use float(ser.iloc[0]) instead\n",
      "  elif (float(row['RSI_14']) < 40) and (float(row['Close']) < float(row['SMA_50'])) and (float(row['MACD']) < float(row['MACD_Signal'])):\n",
      "c:\\Users\\heman\\AppData\\Local\\Programs\\Python\\Python310\\lib\\site-packages\\keras\\src\\layers\\rnn\\bidirectional.py:107: UserWarning: Do not pass an `input_shape`/`input_dim` argument to a layer. When using Sequential models, prefer using an `Input(shape)` object as the first layer in the model instead.\n",
      "  super().__init__(**kwargs)\n",
      "WARNING:absl:You are saving your model as an HDF5 file via `model.save()` or `keras.saving.save_model(model)`. This file format is considered legacy. We recommend using instead the native Keras format, e.g. `model.save('my_model.keras')` or `keras.saving.save_model(model, 'my_model.keras')`. \n"
     ]
    },
    {
     "name": "stdout",
     "output_type": "stream",
     "text": [
      "\n",
      "📊 Processing BAJAJ-AUTO.NS...\n"
     ]
    },
    {
     "name": "stderr",
     "output_type": "stream",
     "text": [
      "[*********************100%***********************]  1 of 1 completed\n",
      "C:\\Users\\heman\\AppData\\Local\\Temp\\ipykernel_34088\\2187632135.py:27: FutureWarning: Calling float on a single element Series is deprecated and will raise a TypeError in the future. Use float(ser.iloc[0]) instead\n",
      "  if (float(row['RSI_14']) > 60) and (float(row['Close']) > float(row['SMA_50'])) and (float(row['MACD']) > float(row['MACD_Signal'])):\n",
      "C:\\Users\\heman\\AppData\\Local\\Temp\\ipykernel_34088\\2187632135.py:29: FutureWarning: Calling float on a single element Series is deprecated and will raise a TypeError in the future. Use float(ser.iloc[0]) instead\n",
      "  elif (float(row['RSI_14']) < 40) and (float(row['Close']) < float(row['SMA_50'])) and (float(row['MACD']) < float(row['MACD_Signal'])):\n",
      "c:\\Users\\heman\\AppData\\Local\\Programs\\Python\\Python310\\lib\\site-packages\\keras\\src\\layers\\rnn\\bidirectional.py:107: UserWarning: Do not pass an `input_shape`/`input_dim` argument to a layer. When using Sequential models, prefer using an `Input(shape)` object as the first layer in the model instead.\n",
      "  super().__init__(**kwargs)\n",
      "WARNING:absl:You are saving your model as an HDF5 file via `model.save()` or `keras.saving.save_model(model)`. This file format is considered legacy. We recommend using instead the native Keras format, e.g. `model.save('my_model.keras')` or `keras.saving.save_model(model, 'my_model.keras')`. \n"
     ]
    },
    {
     "name": "stdout",
     "output_type": "stream",
     "text": [
      "\n",
      "📊 Processing SBILIFE.NS...\n"
     ]
    },
    {
     "name": "stderr",
     "output_type": "stream",
     "text": [
      "[*********************100%***********************]  1 of 1 completed\n",
      "C:\\Users\\heman\\AppData\\Local\\Temp\\ipykernel_34088\\2187632135.py:27: FutureWarning: Calling float on a single element Series is deprecated and will raise a TypeError in the future. Use float(ser.iloc[0]) instead\n",
      "  if (float(row['RSI_14']) > 60) and (float(row['Close']) > float(row['SMA_50'])) and (float(row['MACD']) > float(row['MACD_Signal'])):\n",
      "C:\\Users\\heman\\AppData\\Local\\Temp\\ipykernel_34088\\2187632135.py:29: FutureWarning: Calling float on a single element Series is deprecated and will raise a TypeError in the future. Use float(ser.iloc[0]) instead\n",
      "  elif (float(row['RSI_14']) < 40) and (float(row['Close']) < float(row['SMA_50'])) and (float(row['MACD']) < float(row['MACD_Signal'])):\n",
      "c:\\Users\\heman\\AppData\\Local\\Programs\\Python\\Python310\\lib\\site-packages\\keras\\src\\layers\\rnn\\bidirectional.py:107: UserWarning: Do not pass an `input_shape`/`input_dim` argument to a layer. When using Sequential models, prefer using an `Input(shape)` object as the first layer in the model instead.\n",
      "  super().__init__(**kwargs)\n",
      "WARNING:absl:You are saving your model as an HDF5 file via `model.save()` or `keras.saving.save_model(model)`. This file format is considered legacy. We recommend using instead the native Keras format, e.g. `model.save('my_model.keras')` or `keras.saving.save_model(model, 'my_model.keras')`. \n"
     ]
    },
    {
     "name": "stdout",
     "output_type": "stream",
     "text": [
      "\n",
      "📊 Processing DRREDDY.NS...\n"
     ]
    },
    {
     "name": "stderr",
     "output_type": "stream",
     "text": [
      "[*********************100%***********************]  1 of 1 completed\n",
      "C:\\Users\\heman\\AppData\\Local\\Temp\\ipykernel_34088\\2187632135.py:27: FutureWarning: Calling float on a single element Series is deprecated and will raise a TypeError in the future. Use float(ser.iloc[0]) instead\n",
      "  if (float(row['RSI_14']) > 60) and (float(row['Close']) > float(row['SMA_50'])) and (float(row['MACD']) > float(row['MACD_Signal'])):\n",
      "C:\\Users\\heman\\AppData\\Local\\Temp\\ipykernel_34088\\2187632135.py:29: FutureWarning: Calling float on a single element Series is deprecated and will raise a TypeError in the future. Use float(ser.iloc[0]) instead\n",
      "  elif (float(row['RSI_14']) < 40) and (float(row['Close']) < float(row['SMA_50'])) and (float(row['MACD']) < float(row['MACD_Signal'])):\n",
      "c:\\Users\\heman\\AppData\\Local\\Programs\\Python\\Python310\\lib\\site-packages\\keras\\src\\layers\\rnn\\bidirectional.py:107: UserWarning: Do not pass an `input_shape`/`input_dim` argument to a layer. When using Sequential models, prefer using an `Input(shape)` object as the first layer in the model instead.\n",
      "  super().__init__(**kwargs)\n",
      "WARNING:absl:You are saving your model as an HDF5 file via `model.save()` or `keras.saving.save_model(model)`. This file format is considered legacy. We recommend using instead the native Keras format, e.g. `model.save('my_model.keras')` or `keras.saving.save_model(model, 'my_model.keras')`. \n"
     ]
    },
    {
     "name": "stdout",
     "output_type": "stream",
     "text": [
      "\n",
      "📊 Processing CIPLA.NS...\n"
     ]
    },
    {
     "name": "stderr",
     "output_type": "stream",
     "text": [
      "[*********************100%***********************]  1 of 1 completed\n",
      "C:\\Users\\heman\\AppData\\Local\\Temp\\ipykernel_34088\\2187632135.py:27: FutureWarning: Calling float on a single element Series is deprecated and will raise a TypeError in the future. Use float(ser.iloc[0]) instead\n",
      "  if (float(row['RSI_14']) > 60) and (float(row['Close']) > float(row['SMA_50'])) and (float(row['MACD']) > float(row['MACD_Signal'])):\n",
      "C:\\Users\\heman\\AppData\\Local\\Temp\\ipykernel_34088\\2187632135.py:29: FutureWarning: Calling float on a single element Series is deprecated and will raise a TypeError in the future. Use float(ser.iloc[0]) instead\n",
      "  elif (float(row['RSI_14']) < 40) and (float(row['Close']) < float(row['SMA_50'])) and (float(row['MACD']) < float(row['MACD_Signal'])):\n",
      "c:\\Users\\heman\\AppData\\Local\\Programs\\Python\\Python310\\lib\\site-packages\\keras\\src\\layers\\rnn\\bidirectional.py:107: UserWarning: Do not pass an `input_shape`/`input_dim` argument to a layer. When using Sequential models, prefer using an `Input(shape)` object as the first layer in the model instead.\n",
      "  super().__init__(**kwargs)\n",
      "WARNING:absl:You are saving your model as an HDF5 file via `model.save()` or `keras.saving.save_model(model)`. This file format is considered legacy. We recommend using instead the native Keras format, e.g. `model.save('my_model.keras')` or `keras.saving.save_model(model, 'my_model.keras')`. \n"
     ]
    },
    {
     "name": "stdout",
     "output_type": "stream",
     "text": [
      "\n",
      "📊 Processing BPCL.NS...\n"
     ]
    },
    {
     "name": "stderr",
     "output_type": "stream",
     "text": [
      "[*********************100%***********************]  1 of 1 completed\n",
      "C:\\Users\\heman\\AppData\\Local\\Temp\\ipykernel_34088\\2187632135.py:27: FutureWarning: Calling float on a single element Series is deprecated and will raise a TypeError in the future. Use float(ser.iloc[0]) instead\n",
      "  if (float(row['RSI_14']) > 60) and (float(row['Close']) > float(row['SMA_50'])) and (float(row['MACD']) > float(row['MACD_Signal'])):\n",
      "C:\\Users\\heman\\AppData\\Local\\Temp\\ipykernel_34088\\2187632135.py:29: FutureWarning: Calling float on a single element Series is deprecated and will raise a TypeError in the future. Use float(ser.iloc[0]) instead\n",
      "  elif (float(row['RSI_14']) < 40) and (float(row['Close']) < float(row['SMA_50'])) and (float(row['MACD']) < float(row['MACD_Signal'])):\n",
      "c:\\Users\\heman\\AppData\\Local\\Programs\\Python\\Python310\\lib\\site-packages\\keras\\src\\layers\\rnn\\bidirectional.py:107: UserWarning: Do not pass an `input_shape`/`input_dim` argument to a layer. When using Sequential models, prefer using an `Input(shape)` object as the first layer in the model instead.\n",
      "  super().__init__(**kwargs)\n",
      "WARNING:absl:You are saving your model as an HDF5 file via `model.save()` or `keras.saving.save_model(model)`. This file format is considered legacy. We recommend using instead the native Keras format, e.g. `model.save('my_model.keras')` or `keras.saving.save_model(model, 'my_model.keras')`. \n"
     ]
    },
    {
     "name": "stdout",
     "output_type": "stream",
     "text": [
      "\n",
      "📊 Processing INDUSINDBK.NS...\n"
     ]
    },
    {
     "name": "stderr",
     "output_type": "stream",
     "text": [
      "[*********************100%***********************]  1 of 1 completed\n",
      "C:\\Users\\heman\\AppData\\Local\\Temp\\ipykernel_34088\\2187632135.py:27: FutureWarning: Calling float on a single element Series is deprecated and will raise a TypeError in the future. Use float(ser.iloc[0]) instead\n",
      "  if (float(row['RSI_14']) > 60) and (float(row['Close']) > float(row['SMA_50'])) and (float(row['MACD']) > float(row['MACD_Signal'])):\n",
      "C:\\Users\\heman\\AppData\\Local\\Temp\\ipykernel_34088\\2187632135.py:29: FutureWarning: Calling float on a single element Series is deprecated and will raise a TypeError in the future. Use float(ser.iloc[0]) instead\n",
      "  elif (float(row['RSI_14']) < 40) and (float(row['Close']) < float(row['SMA_50'])) and (float(row['MACD']) < float(row['MACD_Signal'])):\n",
      "c:\\Users\\heman\\AppData\\Local\\Programs\\Python\\Python310\\lib\\site-packages\\keras\\src\\layers\\rnn\\bidirectional.py:107: UserWarning: Do not pass an `input_shape`/`input_dim` argument to a layer. When using Sequential models, prefer using an `Input(shape)` object as the first layer in the model instead.\n",
      "  super().__init__(**kwargs)\n",
      "WARNING:absl:You are saving your model as an HDF5 file via `model.save()` or `keras.saving.save_model(model)`. This file format is considered legacy. We recommend using instead the native Keras format, e.g. `model.save('my_model.keras')` or `keras.saving.save_model(model, 'my_model.keras')`. \n"
     ]
    },
    {
     "name": "stdout",
     "output_type": "stream",
     "text": [
      "\n",
      "📊 Processing BRITANNIA.NS...\n"
     ]
    },
    {
     "name": "stderr",
     "output_type": "stream",
     "text": [
      "[*********************100%***********************]  1 of 1 completed\n",
      "C:\\Users\\heman\\AppData\\Local\\Temp\\ipykernel_34088\\2187632135.py:27: FutureWarning: Calling float on a single element Series is deprecated and will raise a TypeError in the future. Use float(ser.iloc[0]) instead\n",
      "  if (float(row['RSI_14']) > 60) and (float(row['Close']) > float(row['SMA_50'])) and (float(row['MACD']) > float(row['MACD_Signal'])):\n",
      "C:\\Users\\heman\\AppData\\Local\\Temp\\ipykernel_34088\\2187632135.py:29: FutureWarning: Calling float on a single element Series is deprecated and will raise a TypeError in the future. Use float(ser.iloc[0]) instead\n",
      "  elif (float(row['RSI_14']) < 40) and (float(row['Close']) < float(row['SMA_50'])) and (float(row['MACD']) < float(row['MACD_Signal'])):\n",
      "c:\\Users\\heman\\AppData\\Local\\Programs\\Python\\Python310\\lib\\site-packages\\keras\\src\\layers\\rnn\\bidirectional.py:107: UserWarning: Do not pass an `input_shape`/`input_dim` argument to a layer. When using Sequential models, prefer using an `Input(shape)` object as the first layer in the model instead.\n",
      "  super().__init__(**kwargs)\n",
      "WARNING:absl:You are saving your model as an HDF5 file via `model.save()` or `keras.saving.save_model(model)`. This file format is considered legacy. We recommend using instead the native Keras format, e.g. `model.save('my_model.keras')` or `keras.saving.save_model(model, 'my_model.keras')`. \n"
     ]
    },
    {
     "name": "stdout",
     "output_type": "stream",
     "text": [
      "\n",
      "📊 Processing EICHERMOT.NS...\n"
     ]
    },
    {
     "name": "stderr",
     "output_type": "stream",
     "text": [
      "[*********************100%***********************]  1 of 1 completed\n",
      "C:\\Users\\heman\\AppData\\Local\\Temp\\ipykernel_34088\\2187632135.py:27: FutureWarning: Calling float on a single element Series is deprecated and will raise a TypeError in the future. Use float(ser.iloc[0]) instead\n",
      "  if (float(row['RSI_14']) > 60) and (float(row['Close']) > float(row['SMA_50'])) and (float(row['MACD']) > float(row['MACD_Signal'])):\n",
      "C:\\Users\\heman\\AppData\\Local\\Temp\\ipykernel_34088\\2187632135.py:29: FutureWarning: Calling float on a single element Series is deprecated and will raise a TypeError in the future. Use float(ser.iloc[0]) instead\n",
      "  elif (float(row['RSI_14']) < 40) and (float(row['Close']) < float(row['SMA_50'])) and (float(row['MACD']) < float(row['MACD_Signal'])):\n",
      "c:\\Users\\heman\\AppData\\Local\\Programs\\Python\\Python310\\lib\\site-packages\\keras\\src\\layers\\rnn\\bidirectional.py:107: UserWarning: Do not pass an `input_shape`/`input_dim` argument to a layer. When using Sequential models, prefer using an `Input(shape)` object as the first layer in the model instead.\n",
      "  super().__init__(**kwargs)\n",
      "WARNING:absl:You are saving your model as an HDF5 file via `model.save()` or `keras.saving.save_model(model)`. This file format is considered legacy. We recommend using instead the native Keras format, e.g. `model.save('my_model.keras')` or `keras.saving.save_model(model, 'my_model.keras')`. \n"
     ]
    },
    {
     "name": "stdout",
     "output_type": "stream",
     "text": [
      "\n",
      "📊 Processing UPL.NS...\n"
     ]
    },
    {
     "name": "stderr",
     "output_type": "stream",
     "text": [
      "[*********************100%***********************]  1 of 1 completed\n",
      "C:\\Users\\heman\\AppData\\Local\\Temp\\ipykernel_34088\\2187632135.py:27: FutureWarning: Calling float on a single element Series is deprecated and will raise a TypeError in the future. Use float(ser.iloc[0]) instead\n",
      "  if (float(row['RSI_14']) > 60) and (float(row['Close']) > float(row['SMA_50'])) and (float(row['MACD']) > float(row['MACD_Signal'])):\n",
      "C:\\Users\\heman\\AppData\\Local\\Temp\\ipykernel_34088\\2187632135.py:29: FutureWarning: Calling float on a single element Series is deprecated and will raise a TypeError in the future. Use float(ser.iloc[0]) instead\n",
      "  elif (float(row['RSI_14']) < 40) and (float(row['Close']) < float(row['SMA_50'])) and (float(row['MACD']) < float(row['MACD_Signal'])):\n",
      "c:\\Users\\heman\\AppData\\Local\\Programs\\Python\\Python310\\lib\\site-packages\\keras\\src\\layers\\rnn\\bidirectional.py:107: UserWarning: Do not pass an `input_shape`/`input_dim` argument to a layer. When using Sequential models, prefer using an `Input(shape)` object as the first layer in the model instead.\n",
      "  super().__init__(**kwargs)\n",
      "WARNING:absl:You are saving your model as an HDF5 file via `model.save()` or `keras.saving.save_model(model)`. This file format is considered legacy. We recommend using instead the native Keras format, e.g. `model.save('my_model.keras')` or `keras.saving.save_model(model, 'my_model.keras')`. \n"
     ]
    },
    {
     "name": "stdout",
     "output_type": "stream",
     "text": [
      "\n",
      "📊 Processing SHREECEM.NS...\n"
     ]
    },
    {
     "name": "stderr",
     "output_type": "stream",
     "text": [
      "[*********************100%***********************]  1 of 1 completed\n",
      "C:\\Users\\heman\\AppData\\Local\\Temp\\ipykernel_34088\\2187632135.py:27: FutureWarning: Calling float on a single element Series is deprecated and will raise a TypeError in the future. Use float(ser.iloc[0]) instead\n",
      "  if (float(row['RSI_14']) > 60) and (float(row['Close']) > float(row['SMA_50'])) and (float(row['MACD']) > float(row['MACD_Signal'])):\n",
      "C:\\Users\\heman\\AppData\\Local\\Temp\\ipykernel_34088\\2187632135.py:29: FutureWarning: Calling float on a single element Series is deprecated and will raise a TypeError in the future. Use float(ser.iloc[0]) instead\n",
      "  elif (float(row['RSI_14']) < 40) and (float(row['Close']) < float(row['SMA_50'])) and (float(row['MACD']) < float(row['MACD_Signal'])):\n",
      "c:\\Users\\heman\\AppData\\Local\\Programs\\Python\\Python310\\lib\\site-packages\\keras\\src\\layers\\rnn\\bidirectional.py:107: UserWarning: Do not pass an `input_shape`/`input_dim` argument to a layer. When using Sequential models, prefer using an `Input(shape)` object as the first layer in the model instead.\n",
      "  super().__init__(**kwargs)\n",
      "WARNING:absl:You are saving your model as an HDF5 file via `model.save()` or `keras.saving.save_model(model)`. This file format is considered legacy. We recommend using instead the native Keras format, e.g. `model.save('my_model.keras')` or `keras.saving.save_model(model, 'my_model.keras')`. \n"
     ]
    },
    {
     "name": "stdout",
     "output_type": "stream",
     "text": [
      "\n",
      "📊 Processing HEROMOTOCO.NS...\n"
     ]
    },
    {
     "name": "stderr",
     "output_type": "stream",
     "text": [
      "[*********************100%***********************]  1 of 1 completed\n",
      "C:\\Users\\heman\\AppData\\Local\\Temp\\ipykernel_34088\\2187632135.py:27: FutureWarning: Calling float on a single element Series is deprecated and will raise a TypeError in the future. Use float(ser.iloc[0]) instead\n",
      "  if (float(row['RSI_14']) > 60) and (float(row['Close']) > float(row['SMA_50'])) and (float(row['MACD']) > float(row['MACD_Signal'])):\n",
      "C:\\Users\\heman\\AppData\\Local\\Temp\\ipykernel_34088\\2187632135.py:29: FutureWarning: Calling float on a single element Series is deprecated and will raise a TypeError in the future. Use float(ser.iloc[0]) instead\n",
      "  elif (float(row['RSI_14']) < 40) and (float(row['Close']) < float(row['SMA_50'])) and (float(row['MACD']) < float(row['MACD_Signal'])):\n",
      "c:\\Users\\heman\\AppData\\Local\\Programs\\Python\\Python310\\lib\\site-packages\\keras\\src\\layers\\rnn\\bidirectional.py:107: UserWarning: Do not pass an `input_shape`/`input_dim` argument to a layer. When using Sequential models, prefer using an `Input(shape)` object as the first layer in the model instead.\n",
      "  super().__init__(**kwargs)\n",
      "WARNING:absl:You are saving your model as an HDF5 file via `model.save()` or `keras.saving.save_model(model)`. This file format is considered legacy. We recommend using instead the native Keras format, e.g. `model.save('my_model.keras')` or `keras.saving.save_model(model, 'my_model.keras')`. \n"
     ]
    },
    {
     "name": "stdout",
     "output_type": "stream",
     "text": [
      "\n",
      "📊 Processing M&M.NS...\n"
     ]
    },
    {
     "name": "stderr",
     "output_type": "stream",
     "text": [
      "[*********************100%***********************]  1 of 1 completed\n",
      "C:\\Users\\heman\\AppData\\Local\\Temp\\ipykernel_34088\\2187632135.py:27: FutureWarning: Calling float on a single element Series is deprecated and will raise a TypeError in the future. Use float(ser.iloc[0]) instead\n",
      "  if (float(row['RSI_14']) > 60) and (float(row['Close']) > float(row['SMA_50'])) and (float(row['MACD']) > float(row['MACD_Signal'])):\n",
      "C:\\Users\\heman\\AppData\\Local\\Temp\\ipykernel_34088\\2187632135.py:29: FutureWarning: Calling float on a single element Series is deprecated and will raise a TypeError in the future. Use float(ser.iloc[0]) instead\n",
      "  elif (float(row['RSI_14']) < 40) and (float(row['Close']) < float(row['SMA_50'])) and (float(row['MACD']) < float(row['MACD_Signal'])):\n",
      "c:\\Users\\heman\\AppData\\Local\\Programs\\Python\\Python310\\lib\\site-packages\\keras\\src\\layers\\rnn\\bidirectional.py:107: UserWarning: Do not pass an `input_shape`/`input_dim` argument to a layer. When using Sequential models, prefer using an `Input(shape)` object as the first layer in the model instead.\n",
      "  super().__init__(**kwargs)\n",
      "WARNING:absl:You are saving your model as an HDF5 file via `model.save()` or `keras.saving.save_model(model)`. This file format is considered legacy. We recommend using instead the native Keras format, e.g. `model.save('my_model.keras')` or `keras.saving.save_model(model, 'my_model.keras')`. \n"
     ]
    },
    {
     "name": "stdout",
     "output_type": "stream",
     "text": [
      "\n",
      "📊 Processing HINDALCO.NS...\n"
     ]
    },
    {
     "name": "stderr",
     "output_type": "stream",
     "text": [
      "[*********************100%***********************]  1 of 1 completed\n",
      "C:\\Users\\heman\\AppData\\Local\\Temp\\ipykernel_34088\\2187632135.py:27: FutureWarning: Calling float on a single element Series is deprecated and will raise a TypeError in the future. Use float(ser.iloc[0]) instead\n",
      "  if (float(row['RSI_14']) > 60) and (float(row['Close']) > float(row['SMA_50'])) and (float(row['MACD']) > float(row['MACD_Signal'])):\n",
      "C:\\Users\\heman\\AppData\\Local\\Temp\\ipykernel_34088\\2187632135.py:29: FutureWarning: Calling float on a single element Series is deprecated and will raise a TypeError in the future. Use float(ser.iloc[0]) instead\n",
      "  elif (float(row['RSI_14']) < 40) and (float(row['Close']) < float(row['SMA_50'])) and (float(row['MACD']) < float(row['MACD_Signal'])):\n",
      "c:\\Users\\heman\\AppData\\Local\\Programs\\Python\\Python310\\lib\\site-packages\\keras\\src\\layers\\rnn\\bidirectional.py:107: UserWarning: Do not pass an `input_shape`/`input_dim` argument to a layer. When using Sequential models, prefer using an `Input(shape)` object as the first layer in the model instead.\n",
      "  super().__init__(**kwargs)\n",
      "WARNING:absl:You are saving your model as an HDF5 file via `model.save()` or `keras.saving.save_model(model)`. This file format is considered legacy. We recommend using instead the native Keras format, e.g. `model.save('my_model.keras')` or `keras.saving.save_model(model, 'my_model.keras')`. \n"
     ]
    },
    {
     "name": "stdout",
     "output_type": "stream",
     "text": [
      "\n",
      "📊 Processing ONGC.NS...\n"
     ]
    },
    {
     "name": "stderr",
     "output_type": "stream",
     "text": [
      "[*********************100%***********************]  1 of 1 completed\n",
      "C:\\Users\\heman\\AppData\\Local\\Temp\\ipykernel_34088\\2187632135.py:27: FutureWarning: Calling float on a single element Series is deprecated and will raise a TypeError in the future. Use float(ser.iloc[0]) instead\n",
      "  if (float(row['RSI_14']) > 60) and (float(row['Close']) > float(row['SMA_50'])) and (float(row['MACD']) > float(row['MACD_Signal'])):\n",
      "C:\\Users\\heman\\AppData\\Local\\Temp\\ipykernel_34088\\2187632135.py:29: FutureWarning: Calling float on a single element Series is deprecated and will raise a TypeError in the future. Use float(ser.iloc[0]) instead\n",
      "  elif (float(row['RSI_14']) < 40) and (float(row['Close']) < float(row['SMA_50'])) and (float(row['MACD']) < float(row['MACD_Signal'])):\n",
      "c:\\Users\\heman\\AppData\\Local\\Programs\\Python\\Python310\\lib\\site-packages\\keras\\src\\layers\\rnn\\bidirectional.py:107: UserWarning: Do not pass an `input_shape`/`input_dim` argument to a layer. When using Sequential models, prefer using an `Input(shape)` object as the first layer in the model instead.\n",
      "  super().__init__(**kwargs)\n",
      "WARNING:absl:You are saving your model as an HDF5 file via `model.save()` or `keras.saving.save_model(model)`. This file format is considered legacy. We recommend using instead the native Keras format, e.g. `model.save('my_model.keras')` or `keras.saving.save_model(model, 'my_model.keras')`. \n"
     ]
    },
    {
     "name": "stdout",
     "output_type": "stream",
     "text": [
      "\n",
      "📊 Processing APOLLOHOSP.NS...\n"
     ]
    },
    {
     "name": "stderr",
     "output_type": "stream",
     "text": [
      "[*********************100%***********************]  1 of 1 completed\n",
      "C:\\Users\\heman\\AppData\\Local\\Temp\\ipykernel_34088\\2187632135.py:27: FutureWarning: Calling float on a single element Series is deprecated and will raise a TypeError in the future. Use float(ser.iloc[0]) instead\n",
      "  if (float(row['RSI_14']) > 60) and (float(row['Close']) > float(row['SMA_50'])) and (float(row['MACD']) > float(row['MACD_Signal'])):\n",
      "C:\\Users\\heman\\AppData\\Local\\Temp\\ipykernel_34088\\2187632135.py:29: FutureWarning: Calling float on a single element Series is deprecated and will raise a TypeError in the future. Use float(ser.iloc[0]) instead\n",
      "  elif (float(row['RSI_14']) < 40) and (float(row['Close']) < float(row['SMA_50'])) and (float(row['MACD']) < float(row['MACD_Signal'])):\n",
      "c:\\Users\\heman\\AppData\\Local\\Programs\\Python\\Python310\\lib\\site-packages\\keras\\src\\layers\\rnn\\bidirectional.py:107: UserWarning: Do not pass an `input_shape`/`input_dim` argument to a layer. When using Sequential models, prefer using an `Input(shape)` object as the first layer in the model instead.\n",
      "  super().__init__(**kwargs)\n",
      "WARNING:absl:You are saving your model as an HDF5 file via `model.save()` or `keras.saving.save_model(model)`. This file format is considered legacy. We recommend using instead the native Keras format, e.g. `model.save('my_model.keras')` or `keras.saving.save_model(model, 'my_model.keras')`. \n"
     ]
    },
    {
     "name": "stdout",
     "output_type": "stream",
     "text": [
      "\n",
      "📊 Processing TATACONSUM.NS...\n"
     ]
    },
    {
     "name": "stderr",
     "output_type": "stream",
     "text": [
      "[*********************100%***********************]  1 of 1 completed\n",
      "C:\\Users\\heman\\AppData\\Local\\Temp\\ipykernel_34088\\2187632135.py:27: FutureWarning: Calling float on a single element Series is deprecated and will raise a TypeError in the future. Use float(ser.iloc[0]) instead\n",
      "  if (float(row['RSI_14']) > 60) and (float(row['Close']) > float(row['SMA_50'])) and (float(row['MACD']) > float(row['MACD_Signal'])):\n",
      "C:\\Users\\heman\\AppData\\Local\\Temp\\ipykernel_34088\\2187632135.py:29: FutureWarning: Calling float on a single element Series is deprecated and will raise a TypeError in the future. Use float(ser.iloc[0]) instead\n",
      "  elif (float(row['RSI_14']) < 40) and (float(row['Close']) < float(row['SMA_50'])) and (float(row['MACD']) < float(row['MACD_Signal'])):\n",
      "c:\\Users\\heman\\AppData\\Local\\Programs\\Python\\Python310\\lib\\site-packages\\keras\\src\\layers\\rnn\\bidirectional.py:107: UserWarning: Do not pass an `input_shape`/`input_dim` argument to a layer. When using Sequential models, prefer using an `Input(shape)` object as the first layer in the model instead.\n",
      "  super().__init__(**kwargs)\n",
      "WARNING:absl:You are saving your model as an HDF5 file via `model.save()` or `keras.saving.save_model(model)`. This file format is considered legacy. We recommend using instead the native Keras format, e.g. `model.save('my_model.keras')` or `keras.saving.save_model(model, 'my_model.keras')`. \n"
     ]
    },
    {
     "data": {
      "text/html": [
       "<div>\n",
       "<style scoped>\n",
       "    .dataframe tbody tr th:only-of-type {\n",
       "        vertical-align: middle;\n",
       "    }\n",
       "\n",
       "    .dataframe tbody tr th {\n",
       "        vertical-align: top;\n",
       "    }\n",
       "\n",
       "    .dataframe thead th {\n",
       "        text-align: right;\n",
       "    }\n",
       "</style>\n",
       "<table border=\"1\" class=\"dataframe\">\n",
       "  <thead>\n",
       "    <tr style=\"text-align: right;\">\n",
       "      <th></th>\n",
       "      <th>Stock</th>\n",
       "      <th>Accuracy</th>\n",
       "      <th>Loss</th>\n",
       "    </tr>\n",
       "  </thead>\n",
       "  <tbody>\n",
       "    <tr>\n",
       "      <th>0</th>\n",
       "      <td>RELIANCE.NS</td>\n",
       "      <td>0.6429</td>\n",
       "      <td>0.6383</td>\n",
       "    </tr>\n",
       "    <tr>\n",
       "      <th>1</th>\n",
       "      <td>TCS.NS</td>\n",
       "      <td>0.7698</td>\n",
       "      <td>0.5520</td>\n",
       "    </tr>\n",
       "    <tr>\n",
       "      <th>2</th>\n",
       "      <td>INFY.NS</td>\n",
       "      <td>0.7063</td>\n",
       "      <td>0.6516</td>\n",
       "    </tr>\n",
       "    <tr>\n",
       "      <th>3</th>\n",
       "      <td>HDFCBANK.NS</td>\n",
       "      <td>0.6429</td>\n",
       "      <td>0.7298</td>\n",
       "    </tr>\n",
       "    <tr>\n",
       "      <th>4</th>\n",
       "      <td>ICICIBANK.NS</td>\n",
       "      <td>0.7302</td>\n",
       "      <td>0.5402</td>\n",
       "    </tr>\n",
       "    <tr>\n",
       "      <th>5</th>\n",
       "      <td>HINDUNILVR.NS</td>\n",
       "      <td>0.7302</td>\n",
       "      <td>0.5915</td>\n",
       "    </tr>\n",
       "    <tr>\n",
       "      <th>6</th>\n",
       "      <td>SBIN.NS</td>\n",
       "      <td>0.7778</td>\n",
       "      <td>0.5281</td>\n",
       "    </tr>\n",
       "    <tr>\n",
       "      <th>7</th>\n",
       "      <td>BHARTIARTL.NS</td>\n",
       "      <td>0.6349</td>\n",
       "      <td>0.7237</td>\n",
       "    </tr>\n",
       "    <tr>\n",
       "      <th>8</th>\n",
       "      <td>ITC.NS</td>\n",
       "      <td>0.7857</td>\n",
       "      <td>0.5156</td>\n",
       "    </tr>\n",
       "    <tr>\n",
       "      <th>9</th>\n",
       "      <td>LT.NS</td>\n",
       "      <td>0.6905</td>\n",
       "      <td>0.6496</td>\n",
       "    </tr>\n",
       "    <tr>\n",
       "      <th>10</th>\n",
       "      <td>ASIANPAINT.NS</td>\n",
       "      <td>0.7302</td>\n",
       "      <td>0.5888</td>\n",
       "    </tr>\n",
       "    <tr>\n",
       "      <th>11</th>\n",
       "      <td>AXISBANK.NS</td>\n",
       "      <td>0.6746</td>\n",
       "      <td>0.7168</td>\n",
       "    </tr>\n",
       "    <tr>\n",
       "      <th>12</th>\n",
       "      <td>BAJFINANCE.NS</td>\n",
       "      <td>0.7460</td>\n",
       "      <td>0.5544</td>\n",
       "    </tr>\n",
       "    <tr>\n",
       "      <th>13</th>\n",
       "      <td>KOTAKBANK.NS</td>\n",
       "      <td>0.6746</td>\n",
       "      <td>0.6348</td>\n",
       "    </tr>\n",
       "    <tr>\n",
       "      <th>14</th>\n",
       "      <td>MARUTI.NS</td>\n",
       "      <td>0.7778</td>\n",
       "      <td>0.5332</td>\n",
       "    </tr>\n",
       "    <tr>\n",
       "      <th>15</th>\n",
       "      <td>HCLTECH.NS</td>\n",
       "      <td>0.7619</td>\n",
       "      <td>0.5495</td>\n",
       "    </tr>\n",
       "    <tr>\n",
       "      <th>16</th>\n",
       "      <td>SUNPHARMA.NS</td>\n",
       "      <td>0.7302</td>\n",
       "      <td>0.5479</td>\n",
       "    </tr>\n",
       "    <tr>\n",
       "      <th>17</th>\n",
       "      <td>WIPRO.NS</td>\n",
       "      <td>0.6508</td>\n",
       "      <td>0.6946</td>\n",
       "    </tr>\n",
       "    <tr>\n",
       "      <th>18</th>\n",
       "      <td>NESTLEIND.NS</td>\n",
       "      <td>0.6667</td>\n",
       "      <td>0.6052</td>\n",
       "    </tr>\n",
       "    <tr>\n",
       "      <th>19</th>\n",
       "      <td>ULTRACEMCO.NS</td>\n",
       "      <td>0.6905</td>\n",
       "      <td>0.6045</td>\n",
       "    </tr>\n",
       "    <tr>\n",
       "      <th>20</th>\n",
       "      <td>TITAN.NS</td>\n",
       "      <td>0.7540</td>\n",
       "      <td>0.5097</td>\n",
       "    </tr>\n",
       "    <tr>\n",
       "      <th>21</th>\n",
       "      <td>TECHM.NS</td>\n",
       "      <td>0.6667</td>\n",
       "      <td>0.7033</td>\n",
       "    </tr>\n",
       "    <tr>\n",
       "      <th>22</th>\n",
       "      <td>TATAMOTORS.NS</td>\n",
       "      <td>0.7460</td>\n",
       "      <td>0.5830</td>\n",
       "    </tr>\n",
       "    <tr>\n",
       "      <th>23</th>\n",
       "      <td>NTPC.NS</td>\n",
       "      <td>0.6984</td>\n",
       "      <td>0.6218</td>\n",
       "    </tr>\n",
       "    <tr>\n",
       "      <th>24</th>\n",
       "      <td>JSWSTEEL.NS</td>\n",
       "      <td>0.7222</td>\n",
       "      <td>0.6021</td>\n",
       "    </tr>\n",
       "    <tr>\n",
       "      <th>25</th>\n",
       "      <td>POWERGRID.NS</td>\n",
       "      <td>0.7857</td>\n",
       "      <td>0.5580</td>\n",
       "    </tr>\n",
       "    <tr>\n",
       "      <th>26</th>\n",
       "      <td>BAJAJFINSV.NS</td>\n",
       "      <td>0.6905</td>\n",
       "      <td>0.6764</td>\n",
       "    </tr>\n",
       "    <tr>\n",
       "      <th>27</th>\n",
       "      <td>GRASIM.NS</td>\n",
       "      <td>0.6667</td>\n",
       "      <td>0.6511</td>\n",
       "    </tr>\n",
       "    <tr>\n",
       "      <th>28</th>\n",
       "      <td>ADANIENT.NS</td>\n",
       "      <td>0.7381</td>\n",
       "      <td>0.6388</td>\n",
       "    </tr>\n",
       "    <tr>\n",
       "      <th>29</th>\n",
       "      <td>COALINDIA.NS</td>\n",
       "      <td>0.7143</td>\n",
       "      <td>0.6254</td>\n",
       "    </tr>\n",
       "    <tr>\n",
       "      <th>30</th>\n",
       "      <td>TATASTEEL.NS</td>\n",
       "      <td>0.7460</td>\n",
       "      <td>0.5825</td>\n",
       "    </tr>\n",
       "    <tr>\n",
       "      <th>31</th>\n",
       "      <td>DIVISLAB.NS</td>\n",
       "      <td>0.7302</td>\n",
       "      <td>0.6386</td>\n",
       "    </tr>\n",
       "    <tr>\n",
       "      <th>32</th>\n",
       "      <td>HDFCLIFE.NS</td>\n",
       "      <td>0.7937</td>\n",
       "      <td>0.5090</td>\n",
       "    </tr>\n",
       "    <tr>\n",
       "      <th>33</th>\n",
       "      <td>BAJAJ-AUTO.NS</td>\n",
       "      <td>0.7381</td>\n",
       "      <td>0.6065</td>\n",
       "    </tr>\n",
       "    <tr>\n",
       "      <th>34</th>\n",
       "      <td>SBILIFE.NS</td>\n",
       "      <td>0.6587</td>\n",
       "      <td>0.6245</td>\n",
       "    </tr>\n",
       "    <tr>\n",
       "      <th>35</th>\n",
       "      <td>DRREDDY.NS</td>\n",
       "      <td>0.7302</td>\n",
       "      <td>0.5686</td>\n",
       "    </tr>\n",
       "    <tr>\n",
       "      <th>36</th>\n",
       "      <td>CIPLA.NS</td>\n",
       "      <td>0.6190</td>\n",
       "      <td>0.6791</td>\n",
       "    </tr>\n",
       "    <tr>\n",
       "      <th>37</th>\n",
       "      <td>BPCL.NS</td>\n",
       "      <td>0.7381</td>\n",
       "      <td>0.6360</td>\n",
       "    </tr>\n",
       "    <tr>\n",
       "      <th>38</th>\n",
       "      <td>INDUSINDBK.NS</td>\n",
       "      <td>0.7857</td>\n",
       "      <td>0.5342</td>\n",
       "    </tr>\n",
       "    <tr>\n",
       "      <th>39</th>\n",
       "      <td>BRITANNIA.NS</td>\n",
       "      <td>0.7778</td>\n",
       "      <td>0.5276</td>\n",
       "    </tr>\n",
       "    <tr>\n",
       "      <th>40</th>\n",
       "      <td>EICHERMOT.NS</td>\n",
       "      <td>0.8333</td>\n",
       "      <td>0.4814</td>\n",
       "    </tr>\n",
       "    <tr>\n",
       "      <th>41</th>\n",
       "      <td>UPL.NS</td>\n",
       "      <td>0.7857</td>\n",
       "      <td>0.6075</td>\n",
       "    </tr>\n",
       "    <tr>\n",
       "      <th>42</th>\n",
       "      <td>SHREECEM.NS</td>\n",
       "      <td>0.7619</td>\n",
       "      <td>0.6589</td>\n",
       "    </tr>\n",
       "    <tr>\n",
       "      <th>43</th>\n",
       "      <td>HEROMOTOCO.NS</td>\n",
       "      <td>0.7222</td>\n",
       "      <td>0.6208</td>\n",
       "    </tr>\n",
       "    <tr>\n",
       "      <th>44</th>\n",
       "      <td>M&amp;M.NS</td>\n",
       "      <td>0.6746</td>\n",
       "      <td>0.6893</td>\n",
       "    </tr>\n",
       "    <tr>\n",
       "      <th>45</th>\n",
       "      <td>HINDALCO.NS</td>\n",
       "      <td>0.6190</td>\n",
       "      <td>0.6490</td>\n",
       "    </tr>\n",
       "    <tr>\n",
       "      <th>46</th>\n",
       "      <td>ONGC.NS</td>\n",
       "      <td>0.7143</td>\n",
       "      <td>0.6099</td>\n",
       "    </tr>\n",
       "    <tr>\n",
       "      <th>47</th>\n",
       "      <td>APOLLOHOSP.NS</td>\n",
       "      <td>0.6190</td>\n",
       "      <td>0.7406</td>\n",
       "    </tr>\n",
       "    <tr>\n",
       "      <th>48</th>\n",
       "      <td>TATACONSUM.NS</td>\n",
       "      <td>0.6667</td>\n",
       "      <td>0.6687</td>\n",
       "    </tr>\n",
       "  </tbody>\n",
       "</table>\n",
       "</div>"
      ],
      "text/plain": [
       "            Stock  Accuracy    Loss\n",
       "0     RELIANCE.NS    0.6429  0.6383\n",
       "1          TCS.NS    0.7698  0.5520\n",
       "2         INFY.NS    0.7063  0.6516\n",
       "3     HDFCBANK.NS    0.6429  0.7298\n",
       "4    ICICIBANK.NS    0.7302  0.5402\n",
       "5   HINDUNILVR.NS    0.7302  0.5915\n",
       "6         SBIN.NS    0.7778  0.5281\n",
       "7   BHARTIARTL.NS    0.6349  0.7237\n",
       "8          ITC.NS    0.7857  0.5156\n",
       "9           LT.NS    0.6905  0.6496\n",
       "10  ASIANPAINT.NS    0.7302  0.5888\n",
       "11    AXISBANK.NS    0.6746  0.7168\n",
       "12  BAJFINANCE.NS    0.7460  0.5544\n",
       "13   KOTAKBANK.NS    0.6746  0.6348\n",
       "14      MARUTI.NS    0.7778  0.5332\n",
       "15     HCLTECH.NS    0.7619  0.5495\n",
       "16   SUNPHARMA.NS    0.7302  0.5479\n",
       "17       WIPRO.NS    0.6508  0.6946\n",
       "18   NESTLEIND.NS    0.6667  0.6052\n",
       "19  ULTRACEMCO.NS    0.6905  0.6045\n",
       "20       TITAN.NS    0.7540  0.5097\n",
       "21       TECHM.NS    0.6667  0.7033\n",
       "22  TATAMOTORS.NS    0.7460  0.5830\n",
       "23        NTPC.NS    0.6984  0.6218\n",
       "24    JSWSTEEL.NS    0.7222  0.6021\n",
       "25   POWERGRID.NS    0.7857  0.5580\n",
       "26  BAJAJFINSV.NS    0.6905  0.6764\n",
       "27      GRASIM.NS    0.6667  0.6511\n",
       "28    ADANIENT.NS    0.7381  0.6388\n",
       "29   COALINDIA.NS    0.7143  0.6254\n",
       "30   TATASTEEL.NS    0.7460  0.5825\n",
       "31    DIVISLAB.NS    0.7302  0.6386\n",
       "32    HDFCLIFE.NS    0.7937  0.5090\n",
       "33  BAJAJ-AUTO.NS    0.7381  0.6065\n",
       "34     SBILIFE.NS    0.6587  0.6245\n",
       "35     DRREDDY.NS    0.7302  0.5686\n",
       "36       CIPLA.NS    0.6190  0.6791\n",
       "37        BPCL.NS    0.7381  0.6360\n",
       "38  INDUSINDBK.NS    0.7857  0.5342\n",
       "39   BRITANNIA.NS    0.7778  0.5276\n",
       "40   EICHERMOT.NS    0.8333  0.4814\n",
       "41         UPL.NS    0.7857  0.6075\n",
       "42    SHREECEM.NS    0.7619  0.6589\n",
       "43  HEROMOTOCO.NS    0.7222  0.6208\n",
       "44         M&M.NS    0.6746  0.6893\n",
       "45    HINDALCO.NS    0.6190  0.6490\n",
       "46        ONGC.NS    0.7143  0.6099\n",
       "47  APOLLOHOSP.NS    0.6190  0.7406\n",
       "48  TATACONSUM.NS    0.6667  0.6687"
      ]
     },
     "execution_count": 47,
     "metadata": {},
     "output_type": "execute_result"
    }
   ],
   "source": [
    "results = []\n",
    "\n",
    "for ticker in nifty_50_tickers:\n",
    "    try:\n",
    "        print(f\"\\n📊 Processing {ticker}...\")\n",
    "        df = fetch_and_prepare_data(ticker)\n",
    "        X_train, X_test, y_train, y_test = prepare_lstm_data(df)\n",
    "        model, loss, acc = train_lstm_model(X_train, X_test, y_train, y_test)\n",
    "\n",
    "        # Save the model\n",
    "        model.save(f\"Models/{ticker.replace('.NS', '')}_lstm_model.h5\")\n",
    "\n",
    "        results.append({\n",
    "            \"Stock\": ticker,\n",
    "            \"Accuracy\": round(acc, 4),\n",
    "            \"Loss\": round(loss, 4)\n",
    "        })\n",
    "\n",
    "    except Exception as e:\n",
    "        print(f\"❌ {ticker} failed: {e}\")\n",
    "\n",
    "# View summary of training results\n",
    "pd.DataFrame(results)\n"
   ]
  },
  {
   "cell_type": "code",
   "execution_count": null,
   "id": "8e261859",
   "metadata": {},
   "outputs": [],
   "source": []
  }
 ],
 "metadata": {
  "kernelspec": {
   "display_name": "Python 3",
   "language": "python",
   "name": "python3"
  },
  "language_info": {
   "codemirror_mode": {
    "name": "ipython",
    "version": 3
   },
   "file_extension": ".py",
   "mimetype": "text/x-python",
   "name": "python",
   "nbconvert_exporter": "python",
   "pygments_lexer": "ipython3",
   "version": "3.10.0"
  }
 },
 "nbformat": 4,
 "nbformat_minor": 5
}
